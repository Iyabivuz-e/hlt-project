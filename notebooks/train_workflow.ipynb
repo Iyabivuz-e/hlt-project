{
 "cells": [
  {
   "cell_type": "code",
   "execution_count": 1,
   "id": "a4f3ae8e",
   "metadata": {},
   "outputs": [],
   "source": [
    "import sys\n",
    "import os\n",
    "import pandas as pd"
   ]
  },
  {
   "cell_type": "code",
   "execution_count": 2,
   "id": "02480be7",
   "metadata": {},
   "outputs": [],
   "source": [
    "BASE_PATH = \"/Users/manuelemessere/Documents/Università /a) corsi/Human Language Technologies/HLT24_25/hlt_projct/cyberbullying\"\n",
    "sys.path.append(BASE_PATH)\n",
    "os.chdir(BASE_PATH)"
   ]
  },
  {
   "cell_type": "markdown",
   "id": "e61fdc30",
   "metadata": {},
   "source": [
    "# Imports"
   ]
  },
  {
   "cell_type": "code",
   "execution_count": 3,
   "id": "dfb5099e",
   "metadata": {},
   "outputs": [
    {
     "name": "stderr",
     "output_type": "stream",
     "text": [
      "[nltk_data] Downloading package wordnet to\n",
      "[nltk_data]     /Users/manuelemessere/nltk_data...\n",
      "[nltk_data]   Package wordnet is already up-to-date!\n",
      "[nltk_data] Downloading package omw-1.4 to\n",
      "[nltk_data]     /Users/manuelemessere/nltk_data...\n",
      "[nltk_data]   Package omw-1.4 is already up-to-date!\n",
      "[nltk_data] Downloading package stopwords to\n",
      "[nltk_data]     /Users/manuelemessere/nltk_data...\n",
      "[nltk_data]   Package stopwords is already up-to-date!\n"
     ]
    }
   ],
   "source": [
    "from scripts.config import TRAIN_SET_PATH, TEXT_COLUMN, LABEL_COLUMN, BINARY_LABEL_COLUMN\n",
    "from scripts.data_loader import DataLoader\n",
    "from scripts.data_understanding import DataUnderstanding\n",
    "from scripts.data_cleaning import DataCleaner\n",
    "from scripts.data_balancing import DataBalancer"
   ]
  },
  {
   "cell_type": "markdown",
   "id": "e59b49fd",
   "metadata": {},
   "source": [
    "# Training data loading"
   ]
  },
  {
   "cell_type": "code",
   "execution_count": null,
   "id": "769408c4",
   "metadata": {},
   "outputs": [
    {
     "name": "stdout",
     "output_type": "stream",
     "text": [
      "Dataset loaded with shape: (29607, 6)\n"
     ]
    }
   ],
   "source": [
    "loader = DataLoader(file_path=TRAIN_SET_PATH)\n",
    "train_df = loader.load_dataset()"
   ]
  },
  {
   "cell_type": "markdown",
   "id": "9ce84a7b",
   "metadata": {},
   "source": [
    "# Training data understanding"
   ]
  },
  {
   "cell_type": "code",
   "execution_count": 6,
   "id": "fadc8305",
   "metadata": {},
   "outputs": [],
   "source": [
    "du = DataUnderstanding(\n",
    "    dataset=train_df,\n",
    "    text_column='tweet_soft',          \n",
    "    class_column=LABEL_COLUMN        \n",
    ")"
   ]
  },
  {
   "cell_type": "code",
   "execution_count": 7,
   "id": "cf6539c9",
   "metadata": {},
   "outputs": [
    {
     "name": "stdout",
     "output_type": "stream",
     "text": [
      "\n",
      "Class Distribution:\n",
      "cyberbullying_type\n",
      "age                    5644\n",
      "religion               5602\n",
      "ethnicity              5400\n",
      "gender                 5320\n",
      "other_cyberbullying    3881\n",
      "not_cyberbullying      3760\n",
      "Name: count, dtype: int64\n"
     ]
    }
   ],
   "source": [
    "du.class_distribution()"
   ]
  },
  {
   "cell_type": "code",
   "execution_count": 8,
   "id": "c8249bbb",
   "metadata": {},
   "outputs": [
    {
     "name": "stdout",
     "output_type": "stream",
     "text": [
      "\n",
      "Class Imbalance Ratio (max/min): 1.50\n"
     ]
    }
   ],
   "source": [
    "du.check_imbalance()"
   ]
  },
  {
   "cell_type": "code",
   "execution_count": 9,
   "id": "b53d9218",
   "metadata": {},
   "outputs": [
    {
     "name": "stdout",
     "output_type": "stream",
     "text": [
      "\n",
      "Missing Values:\n",
      "tweet_text              0\n",
      "cyberbullying_type      0\n",
      "tweet_soft             20\n",
      "tweet_full              1\n",
      "is_cyberbullying        0\n",
      "cyberbullying_label     0\n",
      "dtype: int64\n"
     ]
    }
   ],
   "source": [
    "du.check_missing_values()"
   ]
  },
  {
   "cell_type": "code",
   "execution_count": 10,
   "id": "ffe9f03c",
   "metadata": {},
   "outputs": [
    {
     "name": "stdout",
     "output_type": "stream",
     "text": [
      "\n",
      "Empty or whitespace-only strings per column:\n",
      "tweet_text             0\n",
      "cyberbullying_type     0\n",
      "tweet_soft             0\n",
      "tweet_full             0\n",
      "is_cyberbullying       0\n",
      "cyberbullying_label    0\n",
      "dtype: int64\n"
     ]
    },
    {
     "name": "stderr",
     "output_type": "stream",
     "text": [
      "/Users/manuelemessere/Documents/Università /a) corsi/Human Language Technologies/HLT24_25/hlt_projct/cyberbullying/scripts/data_understanding.py:44: FutureWarning: DataFrame.applymap has been deprecated. Use DataFrame.map instead.\n",
      "  .applymap(lambda x: isinstance(x, str) and x.strip() == '')\n"
     ]
    }
   ],
   "source": [
    "du.check_empty_strings()"
   ]
  },
  {
   "cell_type": "code",
   "execution_count": 11,
   "id": "8823a4db",
   "metadata": {},
   "outputs": [
    {
     "name": "stdout",
     "output_type": "stream",
     "text": [
      "\n",
      "Number of duplicated tweet_soft: 178\n"
     ]
    }
   ],
   "source": [
    "du.check_duplicates()"
   ]
  },
  {
   "cell_type": "code",
   "execution_count": 12,
   "id": "f690c80b",
   "metadata": {},
   "outputs": [
    {
     "name": "stdout",
     "output_type": "stream",
     "text": [
      "\n",
      "Total duplicated texts (same text, any label): 255 rows\n",
      "\n",
      "Label counts among all duplicates:\n",
      "gender: 130\n",
      "not_cyberbullying: 37\n",
      "other_cyberbullying: 30\n",
      "age: 22\n",
      "ethnicity: 20\n",
      "religion: 16\n",
      "\n",
      "Perfect duplicates (same text and same label): 247 rows\n",
      "Imperfect duplicates (same text, different labels): 6 rows\n"
     ]
    }
   ],
   "source": [
    "du.inspect_duplicates(text_column='tweet_soft', label_column=LABEL_COLUMN)\n"
   ]
  },
  {
   "cell_type": "code",
   "execution_count": 13,
   "id": "33e2ac3e",
   "metadata": {},
   "outputs": [
    {
     "name": "stdout",
     "output_type": "stream",
     "text": [
      "\n",
      "Average Tweet Length: 135.89 characters\n",
      "Average Tweet Length: 24.97 words\n"
     ]
    }
   ],
   "source": [
    "du.average_tweet_length()"
   ]
  },
  {
   "cell_type": "code",
   "execution_count": 15,
   "id": "5b735c0d",
   "metadata": {},
   "outputs": [
    {
     "name": "stdout",
     "output_type": "stream",
     "text": [
      "\n",
      "Binary Class Distribution:\n",
      "is_cyberbullying\n",
      "Yes    0.873003\n",
      "No     0.126997\n",
      "Name: proportion, dtype: float64\n"
     ]
    }
   ],
   "source": [
    "du.binary_class_distribution()"
   ]
  },
  {
   "cell_type": "markdown",
   "id": "d819144d",
   "metadata": {},
   "source": [
    "# Data preprocessing"
   ]
  },
  {
   "cell_type": "code",
   "execution_count": 19,
   "id": "9027ab08",
   "metadata": {},
   "outputs": [],
   "source": [
    "train_cleaner = DataCleaner(train_df, text_column='tweet_soft', label_column='cyberbullying_type')\n"
   ]
  },
  {
   "cell_type": "code",
   "execution_count": 20,
   "id": "e8957585",
   "metadata": {},
   "outputs": [
    {
     "name": "stdout",
     "output_type": "stream",
     "text": [
      "----- BEFORE REMOVING -----\n",
      "Total row numbers: 29607\n",
      "Only text duplicates (tweet_soft): 178\n",
      "Text + label duplicates (tweet_soft + cyberbullying_type): 172\n"
     ]
    }
   ],
   "source": [
    "# --- Before cleaning: duplicates analysis ---\n",
    "print(\"----- BEFORE REMOVING -----\")\n",
    "print(f\"Total row numbers: {train_df.shape[0]}\")\n",
    "print(f\"Only text duplicates (tweet_soft): {train_df.duplicated(subset=['tweet_soft']).sum()}\")\n",
    "print(f\"Text + label duplicates (tweet_soft + cyberbullying_type): {train_df.duplicated(subset=['tweet_soft', 'cyberbullying_type']).sum()}\")"
   ]
  },
  {
   "cell_type": "code",
   "execution_count": 21,
   "id": "81769841",
   "metadata": {},
   "outputs": [
    {
     "name": "stdout",
     "output_type": "stream",
     "text": [
      "\n",
      "--- CLEANING DUPLICATES BASED ON TEXT COLUMN: tweet_soft ---\n",
      "\n",
      "[1/3] Removing perfect duplicates...\n",
      "Removed 172 perfect duplicates.\n",
      "\n",
      "[2/3] Removing conflicting label duplicates...\n",
      "Removed 8 conflicting label rows.\n",
      "\n",
      "[3/3] Forcing final text-only duplicate removal...\n",
      "Removed 2 pure text duplicates.\n",
      "\n",
      "DUPLICATE CLEANING COMPLETED.\n"
     ]
    }
   ],
   "source": [
    "# --- Duplicates cleaning ---\n",
    "train_cleaned_df = train_cleaner.clean_all_duplicates()"
   ]
  },
  {
   "cell_type": "code",
   "execution_count": 22,
   "id": "6d26feaa",
   "metadata": {},
   "outputs": [
    {
     "name": "stdout",
     "output_type": "stream",
     "text": [
      "\n",
      "----- AFTER REMOVING -----\n",
      "Total row numbers: 29425\n",
      "Only text duplicates control (tweet_soft): 0\n",
      "Text + label duplicates control (tweet_soft + cyberbullying_type): 0\n"
     ]
    }
   ],
   "source": [
    "# --- Duplicates cleaning results  ---\n",
    "print(\"\\n----- AFTER REMOVING -----\")\n",
    "print(f\"Total row numbers: {train_cleaned_df.shape[0]}\")\n",
    "print(f\"Only text duplicates control (tweet_soft): {train_cleaned_df.duplicated(subset=['tweet_soft']).sum()}\")\n",
    "print(f\"Text + label duplicates control (tweet_soft + cyberbullying_type): {train_cleaned_df.duplicated(subset=['tweet_soft', 'cyberbullying_type']).sum()}\")"
   ]
  },
  {
   "cell_type": "code",
   "execution_count": 23,
   "id": "2fb14157",
   "metadata": {},
   "outputs": [
    {
     "name": "stdout",
     "output_type": "stream",
     "text": [
      "\n",
      "--- DROPPING MISSING VALUES IN IMPORTANT COLUMNS: ['tweet_soft', 'tweet_full'] ---\n",
      "Removed 2 rows with missing values.\n",
      "\n",
      "MISSING VALUES CLEANING COMPLETED.\n"
     ]
    }
   ],
   "source": [
    "# --- Missing values cleaning ---\n",
    "important_columns = ['tweet_soft', 'tweet_full']\n",
    "train_cleaned_df = train_cleaner.drop_missing_values(important_columns)"
   ]
  },
  {
   "cell_type": "code",
   "execution_count": 24,
   "id": "98f834eb",
   "metadata": {},
   "outputs": [
    {
     "name": "stdout",
     "output_type": "stream",
     "text": [
      "\n",
      "----- AFTER REMOVING MISSING VALUES -----\n",
      "Total row numbers: 29423\n",
      "Missing values remaining:\n",
      "tweet_text             0\n",
      "cyberbullying_type     0\n",
      "tweet_soft             0\n",
      "tweet_full             0\n",
      "is_cyberbullying       0\n",
      "cyberbullying_label    0\n",
      "char_length            0\n",
      "word_length            0\n",
      "dtype: int64\n"
     ]
    }
   ],
   "source": [
    "# --- Missing values cleaning results ---\n",
    "print(\"\\n----- AFTER REMOVING MISSING VALUES -----\")\n",
    "print(f\"Total row numbers: {train_cleaned_df.shape[0]}\")\n",
    "print(f\"Missing values remaining:\\n{train_cleaned_df.isnull().sum()}\")"
   ]
  },
  {
   "cell_type": "markdown",
   "id": "427068b1",
   "metadata": {},
   "source": [
    "# Preprocessed training data understanding"
   ]
  },
  {
   "cell_type": "code",
   "execution_count": 25,
   "id": "ad711dac",
   "metadata": {},
   "outputs": [],
   "source": [
    "cleaned_du = DataUnderstanding(\n",
    "    dataset=train_cleaned_df,\n",
    "    text_column='tweet_soft',          \n",
    "    class_column=LABEL_COLUMN        \n",
    ")"
   ]
  },
  {
   "cell_type": "code",
   "execution_count": 26,
   "id": "f981f80b",
   "metadata": {},
   "outputs": [
    {
     "name": "stdout",
     "output_type": "stream",
     "text": [
      "\n",
      "Class Distribution:\n",
      "cyberbullying_type\n",
      "age                    5629\n",
      "religion               5592\n",
      "ethnicity              5387\n",
      "gender                 5226\n",
      "other_cyberbullying    3858\n",
      "not_cyberbullying      3731\n",
      "Name: count, dtype: int64\n"
     ]
    }
   ],
   "source": [
    "cleaned_du.class_distribution()"
   ]
  },
  {
   "cell_type": "code",
   "execution_count": 27,
   "id": "fdaa14be",
   "metadata": {},
   "outputs": [
    {
     "name": "stdout",
     "output_type": "stream",
     "text": [
      "\n",
      "Class Imbalance Ratio (max/min): 1.51\n"
     ]
    }
   ],
   "source": [
    "cleaned_du.check_imbalance()"
   ]
  },
  {
   "cell_type": "code",
   "execution_count": 28,
   "id": "1001ebde",
   "metadata": {},
   "outputs": [
    {
     "name": "stdout",
     "output_type": "stream",
     "text": [
      "\n",
      "Missing Values:\n",
      "tweet_text             0\n",
      "cyberbullying_type     0\n",
      "tweet_soft             0\n",
      "tweet_full             0\n",
      "is_cyberbullying       0\n",
      "cyberbullying_label    0\n",
      "char_length            0\n",
      "word_length            0\n",
      "dtype: int64\n"
     ]
    }
   ],
   "source": [
    "cleaned_du.check_missing_values()"
   ]
  },
  {
   "cell_type": "code",
   "execution_count": 29,
   "id": "003dc4ec",
   "metadata": {},
   "outputs": [
    {
     "name": "stdout",
     "output_type": "stream",
     "text": [
      "\n",
      "Empty or whitespace-only strings per column:\n",
      "tweet_text             0\n",
      "cyberbullying_type     0\n",
      "tweet_soft             0\n",
      "tweet_full             0\n",
      "is_cyberbullying       0\n",
      "cyberbullying_label    0\n",
      "char_length            0\n",
      "word_length            0\n",
      "dtype: int64\n"
     ]
    },
    {
     "name": "stderr",
     "output_type": "stream",
     "text": [
      "/Users/manuelemessere/Documents/Università /a) corsi/Human Language Technologies/HLT24_25/hlt_projct/cyberbullying/scripts/data_understanding.py:44: FutureWarning: DataFrame.applymap has been deprecated. Use DataFrame.map instead.\n",
      "  .applymap(lambda x: isinstance(x, str) and x.strip() == '')\n"
     ]
    }
   ],
   "source": [
    "cleaned_du.check_empty_strings()"
   ]
  },
  {
   "cell_type": "code",
   "execution_count": 30,
   "id": "d7c80fa0",
   "metadata": {},
   "outputs": [
    {
     "name": "stdout",
     "output_type": "stream",
     "text": [
      "\n",
      "Number of duplicated tweet_soft: 0\n"
     ]
    }
   ],
   "source": [
    "cleaned_du.check_duplicates()"
   ]
  },
  {
   "cell_type": "code",
   "execution_count": 31,
   "id": "9956ec26",
   "metadata": {},
   "outputs": [
    {
     "name": "stdout",
     "output_type": "stream",
     "text": [
      "\n",
      "Total duplicated texts (same text, any label): 0 rows\n",
      "\n",
      "Label counts among all duplicates:\n",
      "\n",
      "Perfect duplicates (same text and same label): 0 rows\n",
      "Imperfect duplicates (same text, different labels): 0 rows\n"
     ]
    }
   ],
   "source": [
    "cleaned_du.inspect_duplicates(text_column='tweet_soft', label_column='cyberbullying_type')"
   ]
  },
  {
   "cell_type": "markdown",
   "id": "d7091864",
   "metadata": {},
   "source": [
    "# Data balancing"
   ]
  },
  {
   "cell_type": "code",
   "execution_count": null,
   "id": "eeeb2551",
   "metadata": {},
   "outputs": [],
   "source": [
    "train_cleaned_df['tweet_soft'] = train_cleaned_df['tweet_soft'].astype(str)\n"
   ]
  },
  {
   "cell_type": "code",
   "execution_count": 33,
   "id": "2a5625aa",
   "metadata": {},
   "outputs": [],
   "source": [
    "balancer = DataBalancer(target_size=15000)\n",
    "df_balanced = balancer.balance(train_cleaned_df, text_column='tweet_soft', label_column='is_cyberbullying', minority_label=0)\n"
   ]
  },
  {
   "cell_type": "code",
   "execution_count": 34,
   "id": "96c79e05",
   "metadata": {},
   "outputs": [
    {
     "data": {
      "image/png": "[encoded data removed]",
      "text/plain": [
       "<Figure size 800x600 with 1 Axes>"
      ]
     },
     "metadata": {},
     "output_type": "display_data"
    }
   ],
   "source": [
    "import pandas as pd\n",
    "import matplotlib.pyplot as plt\n",
    "\n",
    "# Calculate the class distribution before and after balancing\n",
    "original_counts = train_cleaned_df['is_cyberbullying'].value_counts().sort_index()\n",
    "balanced_counts = df_balanced['is_cyberbullying'].value_counts().sort_index()\n",
    "\n",
    "# Create a combined DataFrame for comparison\n",
    "df_compare = pd.DataFrame({\n",
    "    'Original': original_counts,\n",
    "    'Bilanciato': balanced_counts\n",
    "})\n",
    "\n",
    "# Plot the bar chart\n",
    "ax = df_compare.plot(kind='bar', figsize=(8, 6), color=['skyblue', 'salmon'])\n",
    "plt.title('Distribuzione delle classi: prima e dopo aumento dei dati')\n",
    "plt.xlabel('Classe')\n",
    "plt.ylabel('Numero di esempi')\n",
    "plt.xticks(rotation=0)\n",
    "plt.grid(axis='y')\n",
    "plt.tight_layout()\n",
    "plt.show()\n"
   ]
  },
  {
   "cell_type": "code",
   "execution_count": null,
   "id": "99cbeeb5",
   "metadata": {},
   "outputs": [],
   "source": []
  }
 ],
 "metadata": {
  "kernelspec": {
   "display_name": "ML",
   "language": "python",
   "name": "python3"
  },
  "language_info": {
   "codemirror_mode": {
    "name": "ipython",
    "version": 3
   },
   "file_extension": ".py",
   "mimetype": "text/x-python",
   "name": "python",
   "nbconvert_exporter": "python",
   "pygments_lexer": "ipython3",
   "version": "3.11.9"
  }
 },
 "nbformat": 4,
 "nbformat_minor": 5
}
