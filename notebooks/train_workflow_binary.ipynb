{
 "cells": [
  {
   "cell_type": "code",
   "execution_count": 1,
   "id": "a4f3ae8e",
   "metadata": {},
   "outputs": [],
   "source": [
    "import sys\n",
    "import os\n",
    "import pandas as pd"
   ]
  },
  {
   "cell_type": "code",
   "execution_count": 2,
   "id": "02480be7",
   "metadata": {},
   "outputs": [],
   "source": [
    "BASE_PATH = \"/Users/manuelemessere/Documents/Università /a) corsi/Human Language Technologies/HLT24_25/hlt_projct/cyberbullying\"\n",
    "sys.path.append(BASE_PATH)\n",
    "os.chdir(BASE_PATH)"
   ]
  },
  {
   "cell_type": "markdown",
   "id": "e61fdc30",
   "metadata": {},
   "source": [
    "# Imports"
   ]
  },
  {
   "cell_type": "code",
   "execution_count": 3,
   "id": "dfb5099e",
   "metadata": {},
   "outputs": [
    {
     "name": "stderr",
     "output_type": "stream",
     "text": [
      "[nltk_data] Downloading package wordnet to\n",
      "[nltk_data]     /Users/manuelemessere/nltk_data...\n",
      "[nltk_data]   Package wordnet is already up-to-date!\n",
      "[nltk_data] Downloading package omw-1.4 to\n",
      "[nltk_data]     /Users/manuelemessere/nltk_data...\n",
      "[nltk_data]   Package omw-1.4 is already up-to-date!\n",
      "[nltk_data] Downloading package stopwords to\n",
      "[nltk_data]     /Users/manuelemessere/nltk_data...\n",
      "[nltk_data]   Package stopwords is already up-to-date!\n",
      "[nltk_data] Downloading package stopwords to\n",
      "[nltk_data]     /Users/manuelemessere/nltk_data...\n",
      "[nltk_data]   Package stopwords is already up-to-date!\n",
      "/opt/anaconda3/envs/ML/lib/python3.11/site-packages/tqdm/auto.py:21: TqdmWarning: IProgress not found. Please update jupyter and ipywidgets. See https://ipywidgets.readthedocs.io/en/stable/user_install.html\n",
      "  from .autonotebook import tqdm as notebook_tqdm\n",
      "2025-05-13 21:21:35.395191: I tensorflow/core/platform/cpu_feature_guard.cc:210] This TensorFlow binary is optimized to use available CPU instructions in performance-critical operations.\n",
      "To enable the following instructions: AVX2 FMA, in other operations, rebuild TensorFlow with the appropriate compiler flags.\n"
     ]
    }
   ],
   "source": [
    "from scripts.config import TRAIN_SET_PATH, TEXT_COLUMN, LABEL_COLUMN, BINARY_LABEL_COLUMN, PROCESSED_DATA_PATH, W2V_PATH\n",
    "from scripts.data_loader import DataLoader\n",
    "from scripts.data_understanding import DataUnderstanding\n",
    "from scripts.data_cleaning import DataCleaner\n",
    "from scripts.data_balancing import DataBalancer\n",
    "from scripts.text_preprocessing import TextPreprocessor\n",
    "from scripts.data_embedding import SemanticSimilarity\n",
    "from scripts.data_saver import DataSaver"
   ]
  },
  {
   "cell_type": "markdown",
   "id": "e59b49fd",
   "metadata": {},
   "source": [
    "# Training data loading"
   ]
  },
  {
   "cell_type": "code",
   "execution_count": 4,
   "id": "769408c4",
   "metadata": {},
   "outputs": [
    {
     "name": "stdout",
     "output_type": "stream",
     "text": [
      "Dataset loaded with shape: (26698, 6)\n"
     ]
    }
   ],
   "source": [
    "loader = DataLoader(file_path=TRAIN_SET_PATH)\n",
    "train_df = loader.load_dataset()"
   ]
  },
  {
   "cell_type": "markdown",
   "id": "9ce84a7b",
   "metadata": {},
   "source": [
    "# Training data understanding"
   ]
  },
  {
   "cell_type": "markdown",
   "id": "6999bc32",
   "metadata": {},
   "source": [
    "## Raw column"
   ]
  },
  {
   "cell_type": "code",
   "execution_count": 5,
   "id": "f6c834bd",
   "metadata": {},
   "outputs": [],
   "source": [
    "du_raw = DataUnderstanding(\n",
    "    dataset=train_df,\n",
    "    text_column='tweet_text',          \n",
    "    class_column=BINARY_LABEL_COLUMN        \n",
    ")"
   ]
  },
  {
   "cell_type": "code",
   "execution_count": 6,
   "id": "17a206e6",
   "metadata": {},
   "outputs": [
    {
     "name": "stdout",
     "output_type": "stream",
     "text": [
      "\n",
      "Class Distribution:\n",
      "is_cyberbullying\n",
      "1    22017\n",
      "0     4681\n",
      "Name: count, dtype: int64\n",
      "--------------------------\n",
      "\n",
      "Class Imbalance Ratio (max/min): 4.70\n",
      "--------------------------\n",
      "\n",
      "Missing Values:\n",
      "tweet_text              0\n",
      "cyberbullying_type      0\n",
      "tweet_soft             19\n",
      "tweet_full             38\n",
      "is_cyberbullying        0\n",
      "cyberbullying_label     0\n",
      "dtype: int64\n",
      "--------------------------\n",
      "\n",
      "Empty or whitespace-only strings per column:\n",
      "tweet_text             0\n",
      "cyberbullying_type     0\n",
      "tweet_soft             0\n",
      "tweet_full             0\n",
      "is_cyberbullying       0\n",
      "cyberbullying_label    0\n",
      "dtype: int64\n",
      "--------------------------\n",
      "\n",
      "Number of duplicated tweet_text: 0\n",
      "--------------------------\n",
      "\n",
      "Total duplicated texts (same text, any label): 0 rows\n",
      "\n",
      "Label counts among all duplicates:\n",
      "\n",
      "Perfect duplicates (same text and same label): 0 rows\n",
      "Imperfect duplicates (same text, different labels): 0 rows\n",
      "--------------------------\n"
     ]
    },
    {
     "name": "stderr",
     "output_type": "stream",
     "text": [
      "/Users/manuelemessere/Documents/Università /a) corsi/Human Language Technologies/HLT24_25/hlt_projct/cyberbullying/scripts/data_understanding.py:44: FutureWarning: DataFrame.applymap has been deprecated. Use DataFrame.map instead.\n",
      "  .applymap(lambda x: isinstance(x, str) and x.strip() == '')\n"
     ]
    },
    {
     "name": "stdout",
     "output_type": "stream",
     "text": [
      "\n",
      "Average Tweet Length: 151.55 characters\n",
      "Average Tweet Length: 26.58 words\n",
      "--------------------------\n",
      "\n",
      "Binary Class Distribution:\n",
      "is_cyberbullying\n",
      "Yes    0.824669\n",
      "No     0.175331\n",
      "Name: proportion, dtype: float64\n",
      "--------------------------\n"
     ]
    }
   ],
   "source": [
    "du_raw.class_distribution()\n",
    "\n",
    "print(\"--------------------------\")\n",
    "\n",
    "du_raw.check_imbalance()\n",
    "\n",
    "print(\"--------------------------\")\n",
    "\n",
    "du_raw.check_missing_values()\n",
    "\n",
    "print(\"--------------------------\")\n",
    "\n",
    "du_raw.check_empty_strings()\n",
    "\n",
    "print(\"--------------------------\")\n",
    "\n",
    "du_raw.check_duplicates()\n",
    "\n",
    "print(\"--------------------------\")\n",
    "\n",
    "du_raw.inspect_duplicates(text_column='tweet_text', label_column=BINARY_LABEL_COLUMN)\n",
    "\n",
    "print(\"--------------------------\")\n",
    "\n",
    "du_raw.average_tweet_length()\n",
    "\n",
    "print(\"--------------------------\")\n",
    "\n",
    "du_raw.binary_class_distribution()\n",
    "\n",
    "print(\"--------------------------\")\n"
   ]
  },
  {
   "cell_type": "markdown",
   "id": "78e58760",
   "metadata": {},
   "source": [
    "## Soft column"
   ]
  },
  {
   "cell_type": "code",
   "execution_count": 7,
   "id": "6ec09e25",
   "metadata": {},
   "outputs": [],
   "source": [
    "du_soft = DataUnderstanding(\n",
    "    dataset=train_df,\n",
    "    text_column='tweet_soft',          \n",
    "    class_column=BINARY_LABEL_COLUMN        \n",
    ")"
   ]
  },
  {
   "cell_type": "code",
   "execution_count": 8,
   "id": "92a4e0f4",
   "metadata": {},
   "outputs": [
    {
     "name": "stdout",
     "output_type": "stream",
     "text": [
      "\n",
      "Class Distribution:\n",
      "is_cyberbullying\n",
      "1    22017\n",
      "0     4681\n",
      "Name: count, dtype: int64\n",
      "--------------------------\n",
      "\n",
      "Class Imbalance Ratio (max/min): 4.70\n",
      "--------------------------\n",
      "\n",
      "Missing Values:\n",
      "tweet_text              0\n",
      "cyberbullying_type      0\n",
      "tweet_soft             19\n",
      "tweet_full             38\n",
      "is_cyberbullying        0\n",
      "cyberbullying_label     0\n",
      "char_length             0\n",
      "word_length             0\n",
      "dtype: int64\n",
      "--------------------------\n",
      "\n",
      "Empty or whitespace-only strings per column:\n",
      "tweet_text             0\n",
      "cyberbullying_type     0\n",
      "tweet_soft             0\n",
      "tweet_full             0\n",
      "is_cyberbullying       0\n",
      "cyberbullying_label    0\n",
      "char_length            0\n",
      "word_length            0\n",
      "dtype: int64\n",
      "--------------------------\n",
      "\n",
      "Number of duplicated tweet_soft: 160\n",
      "--------------------------\n",
      "\n",
      "Total duplicated texts (same text, any label): 227 rows\n",
      "\n",
      "Label counts among all duplicates:\n",
      "1: 189\n",
      "0: 38\n",
      "\n",
      "Perfect duplicates (same text and same label): 225 rows\n",
      "Imperfect duplicates (same text, different labels): 2 rows\n",
      "--------------------------\n"
     ]
    },
    {
     "name": "stderr",
     "output_type": "stream",
     "text": [
      "/Users/manuelemessere/Documents/Università /a) corsi/Human Language Technologies/HLT24_25/hlt_projct/cyberbullying/scripts/data_understanding.py:44: FutureWarning: DataFrame.applymap has been deprecated. Use DataFrame.map instead.\n",
      "  .applymap(lambda x: isinstance(x, str) and x.strip() == '')\n"
     ]
    },
    {
     "name": "stdout",
     "output_type": "stream",
     "text": [
      "\n",
      "Average Tweet Length: 142.40 characters\n",
      "Average Tweet Length: 26.12 words\n",
      "--------------------------\n",
      "\n",
      "Binary Class Distribution:\n",
      "is_cyberbullying\n",
      "Yes    0.824669\n",
      "No     0.175331\n",
      "Name: proportion, dtype: float64\n",
      "--------------------------\n"
     ]
    }
   ],
   "source": [
    "du_soft.class_distribution()\n",
    "\n",
    "print(\"--------------------------\")\n",
    "\n",
    "du_soft.check_imbalance()\n",
    "\n",
    "print(\"--------------------------\")\n",
    "\n",
    "du_soft.check_missing_values()\n",
    "\n",
    "print(\"--------------------------\")\n",
    "\n",
    "du_soft.check_empty_strings()\n",
    "\n",
    "print(\"--------------------------\")\n",
    "\n",
    "du_soft.check_duplicates()\n",
    "\n",
    "print(\"--------------------------\")\n",
    "\n",
    "du_soft.inspect_duplicates(text_column='tweet_soft', label_column=BINARY_LABEL_COLUMN)\n",
    "\n",
    "print(\"--------------------------\")\n",
    "\n",
    "du_soft.average_tweet_length()\n",
    "\n",
    "print(\"--------------------------\")\n",
    "\n",
    "du_soft.binary_class_distribution()\n",
    "\n",
    "print(\"--------------------------\")\n"
   ]
  },
  {
   "cell_type": "markdown",
   "id": "3c04e762",
   "metadata": {},
   "source": [
    "## Full column"
   ]
  },
  {
   "cell_type": "code",
   "execution_count": 9,
   "id": "647b95c8",
   "metadata": {},
   "outputs": [],
   "source": [
    "du_full = DataUnderstanding(\n",
    "    dataset=train_df,\n",
    "    text_column='tweet_full',          \n",
    "    class_column=BINARY_LABEL_COLUMN        \n",
    ")"
   ]
  },
  {
   "cell_type": "code",
   "execution_count": 10,
   "id": "adc3729c",
   "metadata": {},
   "outputs": [
    {
     "name": "stdout",
     "output_type": "stream",
     "text": [
      "\n",
      "Class Distribution:\n",
      "is_cyberbullying\n",
      "1    22017\n",
      "0     4681\n",
      "Name: count, dtype: int64\n",
      "--------------------------\n",
      "\n",
      "Class Imbalance Ratio (max/min): 4.70\n",
      "--------------------------\n",
      "\n",
      "Missing Values:\n",
      "tweet_text              0\n",
      "cyberbullying_type      0\n",
      "tweet_soft             19\n",
      "tweet_full             38\n",
      "is_cyberbullying        0\n",
      "cyberbullying_label     0\n",
      "char_length             0\n",
      "word_length             0\n",
      "dtype: int64\n",
      "--------------------------\n",
      "\n",
      "Empty or whitespace-only strings per column:\n",
      "tweet_text             0\n",
      "cyberbullying_type     0\n",
      "tweet_soft             0\n",
      "tweet_full             0\n",
      "is_cyberbullying       0\n",
      "cyberbullying_label    0\n",
      "char_length            0\n",
      "word_length            0\n",
      "dtype: int64\n",
      "--------------------------\n",
      "\n",
      "Number of duplicated tweet_full: 364\n",
      "--------------------------\n",
      "\n",
      "Total duplicated texts (same text, any label): 508 rows\n",
      "\n",
      "Label counts among all duplicates:\n",
      "1: 418\n",
      "0: 90\n",
      "\n",
      "Perfect duplicates (same text and same label): 499 rows\n",
      "Imperfect duplicates (same text, different labels): 8 rows\n",
      "--------------------------\n",
      "\n",
      "Average Tweet Length: 87.51 characters\n",
      "Average Tweet Length: 14.12 words\n",
      "--------------------------\n",
      "\n",
      "Binary Class Distribution:\n",
      "is_cyberbullying\n",
      "Yes    0.824669\n",
      "No     0.175331\n",
      "Name: proportion, dtype: float64\n",
      "--------------------------\n"
     ]
    },
    {
     "name": "stderr",
     "output_type": "stream",
     "text": [
      "/Users/manuelemessere/Documents/Università /a) corsi/Human Language Technologies/HLT24_25/hlt_projct/cyberbullying/scripts/data_understanding.py:44: FutureWarning: DataFrame.applymap has been deprecated. Use DataFrame.map instead.\n",
      "  .applymap(lambda x: isinstance(x, str) and x.strip() == '')\n"
     ]
    }
   ],
   "source": [
    "du_full.class_distribution()\n",
    "\n",
    "print(\"--------------------------\")\n",
    "\n",
    "du_full.check_imbalance()\n",
    "\n",
    "print(\"--------------------------\")\n",
    "\n",
    "du_full.check_missing_values()\n",
    "\n",
    "print(\"--------------------------\")\n",
    "\n",
    "du_full.check_empty_strings()\n",
    "\n",
    "print(\"--------------------------\")\n",
    "\n",
    "du_full.check_duplicates()\n",
    "\n",
    "print(\"--------------------------\")\n",
    "\n",
    "du_full.inspect_duplicates(text_column='tweet_full', label_column=BINARY_LABEL_COLUMN)\n",
    "\n",
    "print(\"--------------------------\")\n",
    "\n",
    "du_full.average_tweet_length()\n",
    "\n",
    "print(\"--------------------------\")\n",
    "\n",
    "du_full.binary_class_distribution()\n",
    "\n",
    "print(\"--------------------------\")\n"
   ]
  },
  {
   "cell_type": "markdown",
   "id": "d819144d",
   "metadata": {},
   "source": [
    "# Data preprocessing"
   ]
  },
  {
   "cell_type": "code",
   "execution_count": 11,
   "id": "7ccf560e",
   "metadata": {},
   "outputs": [
    {
     "name": "stdout",
     "output_type": "stream",
     "text": [
      "\n",
      "--- CLEANING DUPLICATES COLUMN BY COLUMN: ['tweet_text', 'tweet_soft', 'tweet_full'] ---\n",
      "\n",
      "Processing column: 'tweet_text'\n",
      " - Removed 0 imperfect duplicates (conflicting labels)\n",
      " - Removed 0 perfect duplicates (keeping one)\n",
      "\n",
      "Processing column: 'tweet_soft'\n",
      " - Removed 2 imperfect duplicates (conflicting labels)\n",
      " - Removed 158 perfect duplicates (keeping one)\n",
      "\n",
      "Processing column: 'tweet_full'\n"
     ]
    },
    {
     "name": "stderr",
     "output_type": "stream",
     "text": [
      "/Users/manuelemessere/Documents/Università /a) corsi/Human Language Technologies/HLT24_25/hlt_projct/cyberbullying/scripts/data_cleaning.py:40: UserWarning: Boolean Series key will be reindexed to match DataFrame index.\n",
      "  duplicates_imperfect = duplicates_all[\n",
      "/Users/manuelemessere/Documents/Università /a) corsi/Human Language Technologies/HLT24_25/hlt_projct/cyberbullying/scripts/data_cleaning.py:40: UserWarning: Boolean Series key will be reindexed to match DataFrame index.\n",
      "  duplicates_imperfect = duplicates_all[\n",
      "/Users/manuelemessere/Documents/Università /a) corsi/Human Language Technologies/HLT24_25/hlt_projct/cyberbullying/scripts/data_cleaning.py:40: UserWarning: Boolean Series key will be reindexed to match DataFrame index.\n",
      "  duplicates_imperfect = duplicates_all[\n"
     ]
    },
    {
     "name": "stdout",
     "output_type": "stream",
     "text": [
      " - Removed 11 imperfect duplicates (conflicting labels)\n",
      " - Removed 356 perfect duplicates (keeping one)\n",
      "\n",
      "Total rows removed: 367\n",
      "--- DUPLICATE CLEANING COMPLETED ---\n",
      "\n",
      "--- DROPPING MISSING VALUES IN: ['tweet_text', 'tweet_soft', 'tweet_full'] ---\n",
      "Removed 2 rows with missing values.\n",
      "\n",
      "MISSING VALUE CLEANING COMPLETED.\n"
     ]
    }
   ],
   "source": [
    "# Text columns to be cleaned\n",
    "text_columns = ['tweet_text', 'tweet_soft', 'tweet_full']\n",
    "\n",
    "cleaner = DataCleaner(train_df, text_column=text_columns, label_column='is_cyberbullying')\n",
    "\n",
    "# 1. Remove global duplicates across all specified text columns\n",
    "cleaned_df = cleaner.clean_text_duplicates()\n",
    "\n",
    "# 2. Drop rows with missing values in any of the specified text columns\n",
    "cleaned_df = cleaner.drop_missing_values(important_columns=text_columns)"
   ]
  },
  {
   "cell_type": "code",
   "execution_count": 12,
   "id": "c4e59ec6",
   "metadata": {},
   "outputs": [
    {
     "name": "stdout",
     "output_type": "stream",
     "text": [
      "Remaining rows: 26329\n"
     ]
    }
   ],
   "source": [
    "# Check\n",
    "print(f\"Remaining rows: {cleaned_df.shape[0]}\")\n"
   ]
  },
  {
   "cell_type": "markdown",
   "id": "427068b1",
   "metadata": {},
   "source": [
    "# Preprocessed training data understanding"
   ]
  },
  {
   "cell_type": "markdown",
   "id": "c3b1f7ec",
   "metadata": {},
   "source": [
    "## Raw column"
   ]
  },
  {
   "cell_type": "code",
   "execution_count": 13,
   "id": "fee7b393",
   "metadata": {},
   "outputs": [],
   "source": [
    "cleaned_du = DataUnderstanding(\n",
    "    dataset=cleaned_df,\n",
    "    text_column='tweet_text',          \n",
    "    class_column=BINARY_LABEL_COLUMN        \n",
    ")"
   ]
  },
  {
   "cell_type": "code",
   "execution_count": 14,
   "id": "ad711dac",
   "metadata": {},
   "outputs": [
    {
     "name": "stdout",
     "output_type": "stream",
     "text": [
      "\n",
      "Class Distribution:\n",
      "is_cyberbullying\n",
      "1    21717\n",
      "0     4612\n",
      "Name: count, dtype: int64\n",
      "--------------------------\n",
      "\n",
      "Class Imbalance Ratio (max/min): 4.71\n",
      "--------------------------\n",
      "\n",
      "Missing Values:\n",
      "tweet_text             0\n",
      "cyberbullying_type     0\n",
      "tweet_soft             0\n",
      "tweet_full             0\n",
      "is_cyberbullying       0\n",
      "cyberbullying_label    0\n",
      "char_length            0\n",
      "word_length            0\n",
      "dtype: int64\n",
      "--------------------------\n",
      "\n",
      "Empty or whitespace-only strings per column:\n",
      "tweet_text             0\n",
      "cyberbullying_type     0\n",
      "tweet_soft             0\n",
      "tweet_full             0\n",
      "is_cyberbullying       0\n",
      "cyberbullying_label    0\n",
      "char_length            0\n",
      "word_length            0\n",
      "dtype: int64\n",
      "--------------------------\n",
      "\n",
      "Empty or whitespace-only strings per column:\n",
      "tweet_text             0\n",
      "cyberbullying_type     0\n",
      "tweet_soft             0\n",
      "tweet_full             0\n",
      "is_cyberbullying       0\n",
      "cyberbullying_label    0\n",
      "char_length            0\n",
      "word_length            0\n",
      "dtype: int64\n",
      "--------------------------\n",
      "\n",
      "Number of duplicated tweet_text: 0\n",
      "--------------------------\n",
      "\n",
      "Total duplicated texts (same text, any label): 0 rows\n",
      "\n",
      "Label counts among all duplicates:\n",
      "\n",
      "Perfect duplicates (same text and same label): 0 rows\n",
      "Imperfect duplicates (same text, different labels): 0 rows\n",
      "--------------------------\n",
      "\n",
      "Binary Class Distribution:\n",
      "is_cyberbullying\n",
      "Yes    0.824832\n",
      "No     0.175168\n",
      "Name: proportion, dtype: float64\n"
     ]
    },
    {
     "name": "stderr",
     "output_type": "stream",
     "text": [
      "/Users/manuelemessere/Documents/Università /a) corsi/Human Language Technologies/HLT24_25/hlt_projct/cyberbullying/scripts/data_understanding.py:44: FutureWarning: DataFrame.applymap has been deprecated. Use DataFrame.map instead.\n",
      "  .applymap(lambda x: isinstance(x, str) and x.strip() == '')\n"
     ]
    }
   ],
   "source": [
    "cleaned_du.class_distribution()\n",
    "\n",
    "print(\"--------------------------\")\n",
    "\n",
    "cleaned_du.check_imbalance()\n",
    "\n",
    "print(\"--------------------------\")\n",
    "\n",
    "cleaned_du.check_missing_values()\n",
    "\n",
    "print(\"--------------------------\")\n",
    "\n",
    "cleaned_du.check_empty_strings()\n",
    "\n",
    "print(\"--------------------------\")\n",
    "\n",
    "cleaned_du.check_empty_strings()\n",
    "\n",
    "print(\"--------------------------\")\n",
    "\n",
    "cleaned_du.check_duplicates()\n",
    "\n",
    "print(\"--------------------------\")\n",
    "\n",
    "cleaned_du.inspect_duplicates(text_column='tweet_text', label_column='is_cyberbullying')\n",
    "\n",
    "print(\"--------------------------\")\n",
    "\n",
    "cleaned_du.binary_class_distribution()"
   ]
  },
  {
   "cell_type": "markdown",
   "id": "49729fff",
   "metadata": {},
   "source": [
    "## Soft "
   ]
  },
  {
   "cell_type": "code",
   "execution_count": 15,
   "id": "e7ef1001",
   "metadata": {},
   "outputs": [],
   "source": [
    "cleaned_du_soft = DataUnderstanding(\n",
    "    dataset=cleaned_df,\n",
    "    text_column='tweet_soft',          \n",
    "    class_column=BINARY_LABEL_COLUMN        \n",
    ")"
   ]
  },
  {
   "cell_type": "code",
   "execution_count": 16,
   "id": "bcbccda2",
   "metadata": {},
   "outputs": [
    {
     "name": "stdout",
     "output_type": "stream",
     "text": [
      "\n",
      "Class Distribution:\n",
      "is_cyberbullying\n",
      "1    21717\n",
      "0     4612\n",
      "Name: count, dtype: int64\n",
      "--------------------------\n",
      "\n",
      "Class Imbalance Ratio (max/min): 4.71\n",
      "--------------------------\n",
      "\n",
      "Missing Values:\n",
      "tweet_text             0\n",
      "cyberbullying_type     0\n",
      "tweet_soft             0\n",
      "tweet_full             0\n",
      "is_cyberbullying       0\n",
      "cyberbullying_label    0\n",
      "char_length            0\n",
      "word_length            0\n",
      "dtype: int64\n",
      "--------------------------\n",
      "\n",
      "Empty or whitespace-only strings per column:\n",
      "tweet_text             0\n",
      "cyberbullying_type     0\n",
      "tweet_soft             0\n",
      "tweet_full             0\n",
      "is_cyberbullying       0\n",
      "cyberbullying_label    0\n",
      "char_length            0\n",
      "word_length            0\n",
      "dtype: int64\n",
      "--------------------------\n",
      "\n",
      "Empty or whitespace-only strings per column:\n",
      "tweet_text             0\n",
      "cyberbullying_type     0\n",
      "tweet_soft             0\n",
      "tweet_full             0\n",
      "is_cyberbullying       0\n",
      "cyberbullying_label    0\n",
      "char_length            0\n",
      "word_length            0\n",
      "dtype: int64\n",
      "--------------------------\n",
      "\n",
      "Number of duplicated tweet_soft: 0\n",
      "--------------------------\n",
      "\n",
      "Total duplicated texts (same text, any label): 0 rows\n",
      "\n",
      "Label counts among all duplicates:\n",
      "\n",
      "Perfect duplicates (same text and same label): 0 rows\n",
      "Imperfect duplicates (same text, different labels): 0 rows\n",
      "--------------------------\n",
      "\n",
      "Binary Class Distribution:\n",
      "is_cyberbullying\n",
      "Yes    0.824832\n",
      "No     0.175168\n",
      "Name: proportion, dtype: float64\n"
     ]
    }
   ],
   "source": [
    "cleaned_du_soft.class_distribution()\n",
    "\n",
    "print(\"--------------------------\")\n",
    "\n",
    "cleaned_du_soft.check_imbalance()\n",
    "\n",
    "print(\"--------------------------\")\n",
    "\n",
    "cleaned_du_soft.check_missing_values()\n",
    "\n",
    "print(\"--------------------------\")\n",
    "\n",
    "cleaned_du_soft.check_empty_strings()\n",
    "\n",
    "print(\"--------------------------\")\n",
    "\n",
    "cleaned_du_soft.check_empty_strings()\n",
    "\n",
    "print(\"--------------------------\")\n",
    "\n",
    "cleaned_du_soft.check_duplicates()\n",
    "\n",
    "print(\"--------------------------\")\n",
    "\n",
    "cleaned_du_soft.inspect_duplicates(text_column='tweet_text', label_column='is_cyberbullying')\n",
    "\n",
    "print(\"--------------------------\")\n",
    "\n",
    "cleaned_du_soft.binary_class_distribution()"
   ]
  },
  {
   "cell_type": "markdown",
   "id": "a6cf5085",
   "metadata": {},
   "source": [
    "## Full"
   ]
  },
  {
   "cell_type": "code",
   "execution_count": 17,
   "id": "b8ea62b7",
   "metadata": {},
   "outputs": [],
   "source": [
    "cleaned_du_full = DataUnderstanding(\n",
    "    dataset=cleaned_df,\n",
    "    text_column='tweet_full',          \n",
    "    class_column=BINARY_LABEL_COLUMN        \n",
    ")"
   ]
  },
  {
   "cell_type": "code",
   "execution_count": 18,
   "id": "77cbfa50",
   "metadata": {},
   "outputs": [
    {
     "name": "stdout",
     "output_type": "stream",
     "text": [
      "\n",
      "Class Distribution:\n",
      "is_cyberbullying\n",
      "1    21717\n",
      "0     4612\n",
      "Name: count, dtype: int64\n",
      "--------------------------\n",
      "\n",
      "Class Imbalance Ratio (max/min): 4.71\n",
      "--------------------------\n",
      "\n",
      "Missing Values:\n",
      "tweet_text             0\n",
      "cyberbullying_type     0\n",
      "tweet_soft             0\n",
      "tweet_full             0\n",
      "is_cyberbullying       0\n",
      "cyberbullying_label    0\n",
      "char_length            0\n",
      "word_length            0\n",
      "dtype: int64\n",
      "--------------------------\n",
      "\n",
      "Empty or whitespace-only strings per column:\n",
      "tweet_text             0\n",
      "cyberbullying_type     0\n",
      "tweet_soft             0\n",
      "tweet_full             0\n",
      "is_cyberbullying       0\n",
      "cyberbullying_label    0\n",
      "char_length            0\n",
      "word_length            0\n",
      "dtype: int64\n",
      "--------------------------\n",
      "\n",
      "Empty or whitespace-only strings per column:\n",
      "tweet_text             0\n",
      "cyberbullying_type     0\n",
      "tweet_soft             0\n",
      "tweet_full             0\n",
      "is_cyberbullying       0\n",
      "cyberbullying_label    0\n",
      "char_length            0\n",
      "word_length            0\n",
      "dtype: int64\n",
      "--------------------------\n",
      "\n",
      "Number of duplicated tweet_full: 1\n",
      "--------------------------\n",
      "\n",
      "Total duplicated texts (same text, any label): 0 rows\n",
      "\n",
      "Label counts among all duplicates:\n",
      "\n",
      "Perfect duplicates (same text and same label): 0 rows\n",
      "Imperfect duplicates (same text, different labels): 0 rows\n",
      "--------------------------\n",
      "\n",
      "Binary Class Distribution:\n",
      "is_cyberbullying\n",
      "Yes    0.824832\n",
      "No     0.175168\n",
      "Name: proportion, dtype: float64\n"
     ]
    }
   ],
   "source": [
    "cleaned_du_full.class_distribution()\n",
    "\n",
    "print(\"--------------------------\")\n",
    "\n",
    "cleaned_du_full.check_imbalance()\n",
    "\n",
    "print(\"--------------------------\")\n",
    "\n",
    "cleaned_du_full.check_missing_values()\n",
    "\n",
    "print(\"--------------------------\")\n",
    "\n",
    "cleaned_du_full.check_empty_strings()\n",
    "\n",
    "print(\"--------------------------\")\n",
    "\n",
    "cleaned_du_full.check_empty_strings()\n",
    "\n",
    "print(\"--------------------------\")\n",
    "\n",
    "cleaned_du_full.check_duplicates()\n",
    "\n",
    "print(\"--------------------------\")\n",
    "\n",
    "cleaned_du_full.inspect_duplicates(text_column='tweet_text', label_column='is_cyberbullying')\n",
    "\n",
    "print(\"--------------------------\")\n",
    "\n",
    "cleaned_du_full.binary_class_distribution()"
   ]
  },
  {
   "cell_type": "markdown",
   "id": "dc0257e3",
   "metadata": {},
   "source": [
    "# Balancing: data augmentation"
   ]
  },
  {
   "cell_type": "code",
   "execution_count": 19,
   "id": "b969f0b2",
   "metadata": {},
   "outputs": [],
   "source": [
    "import os\n",
    "import numpy as np\n",
    "import pandas as pd\n",
    "from scripts.text_preprocessing import TextPreprocessor\n",
    "from scripts.data_balancing import DataBalancer\n",
    "from scripts.data_embedding import SemanticSimilarity\n",
    "from scripts.data_saver import DataSaver  "
   ]
  },
  {
   "cell_type": "code",
   "execution_count": 20,
   "id": "7f3ca521",
   "metadata": {},
   "outputs": [],
   "source": [
    "# Initializing processing components\n",
    "preprocessor = TextPreprocessor()\n",
    "balancer = DataBalancer(target_size=15000)\n",
    "sim_model_raw = SemanticSimilarity()\n",
    "saver = DataSaver()"
   ]
  },
  {
   "cell_type": "code",
   "execution_count": 21,
   "id": "7d50563d",
   "metadata": {},
   "outputs": [],
   "source": [
    "# Ensuring 'tweet_raw' is a string and assign a unique sample_id\n",
    "cleaned_df['sample_id'] = range(len(cleaned_df))\n",
    "cleaned_df['tweet_raw'] = cleaned_df['tweet_text'].astype(str)"
   ]
  },
  {
   "cell_type": "code",
   "execution_count": 22,
   "id": "efb95265",
   "metadata": {},
   "outputs": [],
   "source": [
    "# Performing class balancing by generating synthetic samples for the minority class\n",
    "df_raw_balanced = balancer.balance(\n",
    "    cleaned_df,\n",
    "    text_column='tweet_text',\n",
    "    label_column='is_cyberbullying',\n",
    "    minority_label=0\n",
    ")\n",
    "\n",
    "# Extracting and isolating only the newly generated (augmented) minority class samples\n",
    "raw_original_minority = cleaned_df[cleaned_df['is_cyberbullying'] == 0]['tweet_text'].reset_index(drop=True)\n",
    "raw_augmented_all = df_raw_balanced[df_raw_balanced['is_cyberbullying'] == 0]['tweet_text'].reset_index(drop=True)\n",
    "raw_augmented_only = raw_augmented_all[~raw_augmented_all.isin(raw_original_minority)].reset_index(drop=True)\n",
    "\n",
    "# Repeating original texts to match the number of augmented samples for pairwise similarity comparison\n",
    "raw_original_repeated = pd.Series(np.resize(raw_original_minority.values, len(raw_augmented_only)))"
   ]
  },
  {
   "cell_type": "code",
   "execution_count": 23,
   "id": "0320c67f",
   "metadata": {},
   "outputs": [
    {
     "name": "stderr",
     "output_type": "stream",
     "text": [
      "Batches: 100%|██████████| 300/300 [02:01<00:00,  2.47it/s]\n",
      "Batches: 100%|██████████| 300/300 [02:08<00:00,  2.33it/s]\n"
     ]
    }
   ],
   "source": [
    "# Computing semantic similarity between augmented and original texts\n",
    "similarity_results = sim_model_raw.predict_class(\n",
    "    df_source=pd.DataFrame({'tweet_text': raw_augmented_only}),\n",
    "    df_target=pd.DataFrame({'tweet_text': raw_original_repeated, 'target': ['original'] * len(raw_original_repeated)}),\n",
    "    source_text_col='tweet_text',\n",
    "    target_text_col='tweet_text',\n",
    "    target_class_col='target',\n",
    "    threshold=0.7\n",
    ")\n",
    "\n",
    "# Filtering augmented samples with similarity score ≥ 0.85\n",
    "accepted_augmented_raw = similarity_results[similarity_results['similarity_score'] >= 0.85]"
   ]
  },
  {
   "cell_type": "code",
   "execution_count": 24,
   "id": "2387c528",
   "metadata": {},
   "outputs": [],
   "source": [
    "# Preprocessing accepted augmented texts\n",
    "df_augmented_clean = pd.DataFrame({\n",
    "    'tweet_text': accepted_augmented_raw['tweet_text'],\n",
    "    'is_cyberbullying': 0\n",
    "})\n",
    "df_augmented_clean['tweet_soft'] = df_augmented_clean['tweet_text'].apply(preprocessor.clean_text_soft)\n",
    "df_augmented_clean['tweet_full'] = df_augmented_clean['tweet_text'].apply(preprocessor.clean_text_full)\n",
    "df_augmented_clean['sample_id'] = range(cleaned_df['sample_id'].max() + 1,\n",
    "                                        cleaned_df['sample_id'].max() + 1 + len(df_augmented_clean))\n",
    "\n",
    "# Preparing original dataset portion (renaming the target column to 'label')\n",
    "df_original = cleaned_df[['tweet_text', 'tweet_soft', 'tweet_full', 'is_cyberbullying', 'sample_id']].copy()\n",
    "df_original.rename(columns={'is_cyberbullying': 'label'}, inplace=True)\n",
    "\n",
    "# Preparing augmented dataset portion\n",
    "df_augmented_clean.rename(columns={'is_cyberbullying': 'label'}, inplace=True)\n",
    "df_augmented = df_augmented_clean[['tweet_text', 'tweet_soft', 'tweet_full', 'label', 'sample_id']]\n",
    "\n",
    "# Combining original and augmented data, shuffle, and reset index\n",
    "df_combined = pd.concat([df_original, df_augmented]).sample(frac=1, random_state=42).reset_index(drop=True)"
   ]
  },
  {
   "cell_type": "code",
   "execution_count": 25,
   "id": "42e25495",
   "metadata": {},
   "outputs": [
    {
     "name": "stdout",
     "output_type": "stream",
     "text": [
      "Dataset saved to /Users/manuelemessere/Documents/Università /a) corsi/Human Language Technologies/HLT24_25/hlt_projct/cyberbullying/data/processed_data/train_binary_balanced.csv.\n"
     ]
    }
   ],
   "source": [
    "# Saving the final dataset balanced\n",
    "output_path = os.path.join(PROCESSED_DATA_PATH, \"train_binary_balanced.csv\")\n",
    "saver.save_full_dataset(df_combined, output_path)"
   ]
  },
  {
   "cell_type": "markdown",
   "id": "9fddf994",
   "metadata": {},
   "source": [
    "## Distribution"
   ]
  },
  {
   "cell_type": "code",
   "execution_count": 26,
   "id": "aa1b7e63",
   "metadata": {},
   "outputs": [],
   "source": [
    "import os\n",
    "import numpy as np\n",
    "import pandas as pd\n",
    "import matplotlib.pyplot as plt\n",
    "from scripts.data_embedding import SemanticSimilarity\n",
    "\n",
    "# --- Constants ---\n",
    "SIMILARITY_THRESHOLD = 0.85"
   ]
  },
  {
   "cell_type": "code",
   "execution_count": 27,
   "id": "0476afe9",
   "metadata": {},
   "outputs": [],
   "source": [
    "# --- Extract augmented and original rows ---\n",
    "\n",
    "# Augmented samples are those with sample_id greater than any original\n",
    "df_aug = df_combined[df_combined['sample_id'] >= cleaned_df['sample_id'].max() + 1].reset_index(drop=True)\n",
    "\n",
    "# Original samples with label = 0 (minority class)\n",
    "df_ori = df_combined[(df_combined['label'] == 0) & (df_combined['sample_id'] < cleaned_df['sample_id'].max() + 1)]\n",
    "\n",
    "# Repeat original samples to match the number of augmented ones (for pairwise comparison)\n",
    "raw_original_repeated = pd.Series(np.resize(df_ori['tweet_text'].values, len(df_aug)))"
   ]
  },
  {
   "cell_type": "code",
   "execution_count": null,
   "id": "69e2d05e",
   "metadata": {},
   "outputs": [],
   "source": [
    "# Initialize Sentence-BERT model for semantic similarity\n",
    "sim_model = SemanticSimilarity()\n",
    "\n",
    "# --- 1. Semantic similarity between augmented and original (raw) texts ---\n",
    "df_source = df_aug[['tweet_text']].copy()\n",
    "df_target = pd.DataFrame({\n",
    "    'tweet_text': raw_original_repeated,\n",
    "    'target': ['original'] * len(raw_original_repeated)\n",
    "})\n",
    "similarity_text_original = sim_model.predict_class(\n",
    "    df_source=df_source,\n",
    "    df_target=df_target,\n",
    "    source_text_col='tweet_text',\n",
    "    target_text_col='tweet_text',\n",
    "    target_class_col='target',\n",
    "    threshold=0.0\n",
    ")\n",
    "\n",
    "# --- 2. Semantic similarity between augmented and their \"soft-cleaned\" versions ---\n",
    "df_target = pd.DataFrame({\n",
    "    'tweet_text': df_aug['tweet_soft'],\n",
    "    'target': ['soft'] * len(df_aug)\n",
    "})\n",
    "similarity_text_soft = sim_model.predict_class(\n",
    "    df_source=df_source,\n",
    "    df_target=df_target,\n",
    "    source_text_col='tweet_text',\n",
    "    target_text_col='tweet_text',\n",
    "    target_class_col='target',\n",
    "    threshold=0.0\n",
    ")\n",
    "\n",
    "# --- 3. Semantic similarity between augmented and their \"full-cleaned\" versions using Word2Vec ---\n",
    "sim_model_full = SemanticSimilarity(model_type=\"word2vec\", model_path=W2V_PATH)\n",
    "df_target = pd.DataFrame({\n",
    "    'tweet_text': df_aug['tweet_full'],\n",
    "    'target': ['full'] * len(df_aug)\n",
    "})\n",
    "similarity_text_full = sim_model_full.predict_class(\n",
    "    df_source=df_source,\n",
    "    df_target=df_target,\n",
    "    source_text_col='tweet_text',\n",
    "    target_text_col='tweet_text',\n",
    "    target_class_col='target',\n",
    "    threshold=0.0\n",
    ")"
   ]
  },
  {
   "cell_type": "code",
   "execution_count": 29,
   "id": "ff81b1c4",
   "metadata": {},
   "outputs": [
    {
     "data": {
      "image/png": "[encoded data removed]",
      "text/plain": [
       "<Figure size 1800x500 with 3 Axes>"
      ]
     },
     "metadata": {},
     "output_type": "display_data"
    }
   ],
   "source": [
    "# --- Plot: Similarity distribution histograms ---\n",
    "fig, axs = plt.subplots(1, 3, figsize=(18, 5), sharey=True)\n",
    "\n",
    "# tweet_text vs original\n",
    "axs[0].hist(similarity_text_original['similarity_score'], bins=30, color='skyblue')\n",
    "axs[0].axvline(SIMILARITY_THRESHOLD, color='gray', linestyle='--', label=f'Threshold {SIMILARITY_THRESHOLD}')\n",
    "axs[0].set_title('tweet_text vs Original')\n",
    "axs[0].set_xlabel('Similarity')\n",
    "axs[0].set_ylabel('Frequency')\n",
    "\n",
    "# tweet_text vs tweet_soft\n",
    "axs[1].hist(similarity_text_soft['similarity_score'], bins=30, color='lightgreen')\n",
    "axs[1].axvline(SIMILARITY_THRESHOLD, color='gray', linestyle='--')\n",
    "axs[1].set_title('tweet_text vs tweet_soft')\n",
    "axs[1].set_xlabel('Similarity')\n",
    "\n",
    "# tweet_text vs tweet_full\n",
    "axs[2].hist(similarity_text_full['similarity_score'], bins=30, color='salmon')\n",
    "axs[2].axvline(SIMILARITY_THRESHOLD, color='gray', linestyle='--')\n",
    "axs[2].set_title('tweet_text vs tweet_full')\n",
    "axs[2].set_xlabel('Similarity')\n",
    "\n",
    "plt.suptitle('Semantic Similarity Distributions')\n",
    "plt.tight_layout()\n",
    "plt.show()"
   ]
  },
  {
   "cell_type": "code",
   "execution_count": 30,
   "id": "66229caa",
   "metadata": {},
   "outputs": [
    {
     "data": {
      "image/png": "[encoded data removed]",
      "text/plain": [
       "<Figure size 800x500 with 1 Axes>"
      ]
     },
     "metadata": {},
     "output_type": "display_data"
    }
   ],
   "source": [
    "# --- Class Distribution: Before vs After Augmentation ---\n",
    "# Count number of samples per class in original and final datasets\n",
    "original_counts = cleaned_df['is_cyberbullying'].value_counts().sort_index()\n",
    "augmented_counts = df_combined['label'].value_counts().sort_index()\n",
    "\n",
    "# Create comparative bar chart\n",
    "df_class_distribution = pd.DataFrame({\n",
    "    'Original': original_counts,\n",
    "    'After Augmentation': augmented_counts\n",
    "})\n",
    "\n",
    "df_class_distribution.plot(kind='bar', figsize=(8, 5), color=['#a1c9f4', '#ffb482'])\n",
    "\n",
    "plt.title(\"Class Distribution: Before vs After Augmentation\")\n",
    "plt.xlabel(\"Label\\n(0 = Not Cyberbullying, 1 = Cyberbullying)\")\n",
    "plt.ylabel(\"Number of Samples\")\n",
    "plt.xticks(rotation=0)\n",
    "plt.grid(axis='y')\n",
    "plt.tight_layout()\n",
    "plt.show()\n"
   ]
  },
  {
   "cell_type": "code",
   "execution_count": null,
   "id": "c0d3a8ea",
   "metadata": {},
   "outputs": [],
   "source": []
  }
 ],
 "metadata": {
  "kernelspec": {
   "display_name": "ML",
   "language": "python",
   "name": "python3"
  },
  "language_info": {
   "codemirror_mode": {
    "name": "ipython",
    "version": 3
   },
   "file_extension": ".py",
   "mimetype": "text/x-python",
   "name": "python",
   "nbconvert_exporter": "python",
   "pygments_lexer": "ipython3",
   "version": "3.11.9"
  }
 },
 "nbformat": 4,
 "nbformat_minor": 5
}
