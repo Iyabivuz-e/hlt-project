{
 "cells": [
  {
   "cell_type": "code",
   "execution_count": 1,
   "id": "a4f3ae8e",
   "metadata": {},
   "outputs": [],
   "source": [
    "import sys\n",
    "import os\n",
    "import pandas as pd"
   ]
  },
  {
   "cell_type": "code",
   "execution_count": 2,
   "id": "02480be7",
   "metadata": {},
   "outputs": [],
   "source": [
    "BASE_PATH = \"/Users/manuelemessere/Documents/Università /a) corsi/Human Language Technologies/HLT24_25/hlt_projct/cyberbullying\"\n",
    "sys.path.append(BASE_PATH)\n",
    "os.chdir(BASE_PATH)"
   ]
  },
  {
   "cell_type": "markdown",
   "id": "e61fdc30",
   "metadata": {},
   "source": [
    "# Imports"
   ]
  },
  {
   "cell_type": "code",
   "execution_count": 3,
   "id": "dfb5099e",
   "metadata": {},
   "outputs": [
    {
     "name": "stderr",
     "output_type": "stream",
     "text": [
      "[nltk_data] Downloading package wordnet to\n",
      "[nltk_data]     /Users/manuelemessere/nltk_data...\n",
      "[nltk_data]   Package wordnet is already up-to-date!\n",
      "[nltk_data] Downloading package omw-1.4 to\n",
      "[nltk_data]     /Users/manuelemessere/nltk_data...\n",
      "[nltk_data]   Package omw-1.4 is already up-to-date!\n",
      "[nltk_data] Downloading package stopwords to\n",
      "[nltk_data]     /Users/manuelemessere/nltk_data...\n",
      "[nltk_data]   Package stopwords is already up-to-date!\n",
      "/opt/anaconda3/envs/ML/lib/python3.11/site-packages/tqdm/auto.py:21: TqdmWarning: IProgress not found. Please update jupyter and ipywidgets. See https://ipywidgets.readthedocs.io/en/stable/user_install.html\n",
      "  from .autonotebook import tqdm as notebook_tqdm\n",
      "2025-05-13 19:03:15.523605: I tensorflow/core/platform/cpu_feature_guard.cc:210] This TensorFlow binary is optimized to use available CPU instructions in performance-critical operations.\n",
      "To enable the following instructions: AVX2 FMA, in other operations, rebuild TensorFlow with the appropriate compiler flags.\n"
     ]
    }
   ],
   "source": [
    "from scripts.config import TRAIN_SET_PATH, TEXT_COLUMN, LABEL_COLUMN, BINARY_LABEL_COLUMN, PROCESSED_DATA_PATH, W2V_PATH, MULTI_LABEL_COLUMN\n",
    "from scripts.data_loader import DataLoader\n",
    "from scripts.data_understanding import DataUnderstanding\n",
    "from scripts.data_cleaning import DataCleaner\n",
    "from scripts.data_balancing import DataBalancer\n",
    "from scripts.data_embedding import SemanticSimilarity\n",
    "from scripts.data_saver import DataSaver"
   ]
  },
  {
   "cell_type": "markdown",
   "id": "e59b49fd",
   "metadata": {},
   "source": [
    "# Training data loading"
   ]
  },
  {
   "cell_type": "code",
   "execution_count": 4,
   "id": "769408c4",
   "metadata": {},
   "outputs": [
    {
     "name": "stdout",
     "output_type": "stream",
     "text": [
      "Dataset loaded with shape: (26698, 6)\n"
     ]
    }
   ],
   "source": [
    "loader = DataLoader(file_path=TRAIN_SET_PATH)\n",
    "train_df = loader.load_dataset()"
   ]
  },
  {
   "cell_type": "markdown",
   "id": "9ce84a7b",
   "metadata": {},
   "source": [
    "# Training data understanding"
   ]
  },
  {
   "cell_type": "markdown",
   "id": "b5d38564",
   "metadata": {},
   "source": [
    "## Raw column"
   ]
  },
  {
   "cell_type": "code",
   "execution_count": 5,
   "id": "7e7ebdfc",
   "metadata": {},
   "outputs": [],
   "source": [
    "du_raw = DataUnderstanding(\n",
    "    dataset=train_df,\n",
    "    text_column='tweet_text',          \n",
    "    class_column=LABEL_COLUMN        \n",
    ")"
   ]
  },
  {
   "cell_type": "code",
   "execution_count": 6,
   "id": "a16e042f",
   "metadata": {},
   "outputs": [
    {
     "name": "stdout",
     "output_type": "stream",
     "text": [
      "\n",
      "Class Distribution:\n",
      "cyberbullying_type\n",
      "religion             5647\n",
      "age                  5609\n",
      "ethnicity            5387\n",
      "gender               5374\n",
      "not_cyberbullying    4681\n",
      "Name: count, dtype: int64\n",
      "--------------------------\n",
      "\n",
      "Class Imbalance Ratio (max/min): 1.21\n",
      "--------------------------\n",
      "\n",
      "Missing Values:\n",
      "tweet_text              0\n",
      "cyberbullying_type      0\n",
      "tweet_soft             19\n",
      "tweet_full             38\n",
      "is_cyberbullying        0\n",
      "cyberbullying_label     0\n",
      "dtype: int64\n",
      "--------------------------\n",
      "\n",
      "Empty or whitespace-only strings per column:\n",
      "tweet_text             0\n",
      "cyberbullying_type     0\n",
      "tweet_soft             0\n",
      "tweet_full             0\n",
      "is_cyberbullying       0\n",
      "cyberbullying_label    0\n",
      "dtype: int64\n",
      "--------------------------\n",
      "\n",
      "Number of duplicated tweet_text: 0\n",
      "--------------------------\n",
      "\n",
      "Total duplicated texts (same text, any label): 0 rows\n",
      "\n",
      "Label counts among all duplicates:\n",
      "\n",
      "Perfect duplicates (same text and same label): 0 rows\n",
      "Imperfect duplicates (same text, different labels): 0 rows\n",
      "--------------------------\n"
     ]
    },
    {
     "name": "stderr",
     "output_type": "stream",
     "text": [
      "/Users/manuelemessere/Documents/Università /a) corsi/Human Language Technologies/HLT24_25/hlt_projct/cyberbullying/scripts/data_understanding.py:44: FutureWarning: DataFrame.applymap has been deprecated. Use DataFrame.map instead.\n",
      "  .applymap(lambda x: isinstance(x, str) and x.strip() == '')\n"
     ]
    },
    {
     "name": "stdout",
     "output_type": "stream",
     "text": [
      "\n",
      "Average Tweet Length: 151.55 characters\n",
      "Average Tweet Length: 26.58 words\n",
      "--------------------------\n",
      "\n",
      "Binary Class Distribution:\n",
      "is_cyberbullying\n",
      "Yes    0.824669\n",
      "No     0.175331\n",
      "Name: proportion, dtype: float64\n",
      "--------------------------\n"
     ]
    }
   ],
   "source": [
    "du_raw.class_distribution()\n",
    "\n",
    "print(\"--------------------------\")\n",
    "\n",
    "du_raw.check_imbalance()\n",
    "\n",
    "print(\"--------------------------\")\n",
    "\n",
    "du_raw.check_missing_values()\n",
    "\n",
    "print(\"--------------------------\")\n",
    "\n",
    "du_raw.check_empty_strings()\n",
    "\n",
    "print(\"--------------------------\")\n",
    "\n",
    "du_raw.check_duplicates()\n",
    "\n",
    "print(\"--------------------------\")\n",
    "\n",
    "du_raw.inspect_duplicates(text_column='tweet_text', label_column=LABEL_COLUMN)\n",
    "\n",
    "print(\"--------------------------\")\n",
    "\n",
    "du_raw.average_tweet_length()\n",
    "\n",
    "print(\"--------------------------\")\n",
    "\n",
    "du_raw.binary_class_distribution()\n",
    "\n",
    "print(\"--------------------------\")\n"
   ]
  },
  {
   "cell_type": "markdown",
   "id": "ce083d58",
   "metadata": {},
   "source": [
    "## Soft column"
   ]
  },
  {
   "cell_type": "code",
   "execution_count": 7,
   "id": "f6c834bd",
   "metadata": {},
   "outputs": [],
   "source": [
    "du_soft = DataUnderstanding(\n",
    "    dataset=train_df,\n",
    "    text_column='tweet_soft',          \n",
    "    class_column=LABEL_COLUMN        \n",
    ")"
   ]
  },
  {
   "cell_type": "code",
   "execution_count": 8,
   "id": "17a206e6",
   "metadata": {},
   "outputs": [
    {
     "name": "stdout",
     "output_type": "stream",
     "text": [
      "\n",
      "Class Distribution:\n",
      "cyberbullying_type\n",
      "religion             5647\n",
      "age                  5609\n",
      "ethnicity            5387\n",
      "gender               5374\n",
      "not_cyberbullying    4681\n",
      "Name: count, dtype: int64\n",
      "--------------------------\n",
      "\n",
      "Class Imbalance Ratio (max/min): 1.21\n",
      "--------------------------\n",
      "\n",
      "Missing Values:\n",
      "tweet_text              0\n",
      "cyberbullying_type      0\n",
      "tweet_soft             19\n",
      "tweet_full             38\n",
      "is_cyberbullying        0\n",
      "cyberbullying_label     0\n",
      "char_length             0\n",
      "word_length             0\n",
      "dtype: int64\n",
      "--------------------------\n",
      "\n",
      "Empty or whitespace-only strings per column:\n",
      "tweet_text             0\n",
      "cyberbullying_type     0\n",
      "tweet_soft             0\n",
      "tweet_full             0\n",
      "is_cyberbullying       0\n",
      "cyberbullying_label    0\n",
      "char_length            0\n",
      "word_length            0\n",
      "dtype: int64\n",
      "--------------------------\n",
      "\n",
      "Number of duplicated tweet_soft: 160\n",
      "--------------------------\n",
      "\n",
      "Total duplicated texts (same text, any label): 227 rows\n",
      "\n",
      "Label counts among all duplicates:\n",
      "gender: 125\n",
      "not_cyberbullying: 38\n",
      "religion: 23\n",
      "age: 22\n",
      "ethnicity: 19\n",
      "\n",
      "Perfect duplicates (same text and same label): 225 rows\n",
      "Imperfect duplicates (same text, different labels): 2 rows\n",
      "--------------------------\n",
      "\n",
      "Average Tweet Length: 142.40 characters\n",
      "Average Tweet Length: 26.12 words\n",
      "--------------------------\n",
      "\n",
      "Binary Class Distribution:\n",
      "is_cyberbullying\n",
      "Yes    0.824669\n",
      "No     0.175331\n",
      "Name: proportion, dtype: float64\n",
      "--------------------------\n"
     ]
    },
    {
     "name": "stderr",
     "output_type": "stream",
     "text": [
      "/Users/manuelemessere/Documents/Università /a) corsi/Human Language Technologies/HLT24_25/hlt_projct/cyberbullying/scripts/data_understanding.py:44: FutureWarning: DataFrame.applymap has been deprecated. Use DataFrame.map instead.\n",
      "  .applymap(lambda x: isinstance(x, str) and x.strip() == '')\n"
     ]
    }
   ],
   "source": [
    "du_soft.class_distribution()\n",
    "\n",
    "print(\"--------------------------\")\n",
    "\n",
    "du_soft.check_imbalance()\n",
    "\n",
    "print(\"--------------------------\")\n",
    "\n",
    "du_soft.check_missing_values()\n",
    "\n",
    "print(\"--------------------------\")\n",
    "\n",
    "du_soft.check_empty_strings()\n",
    "\n",
    "print(\"--------------------------\")\n",
    "\n",
    "du_soft.check_duplicates()\n",
    "\n",
    "print(\"--------------------------\")\n",
    "\n",
    "du_soft.inspect_duplicates(text_column='tweet_soft', label_column=LABEL_COLUMN)\n",
    "\n",
    "print(\"--------------------------\")\n",
    "\n",
    "du_soft.average_tweet_length()\n",
    "\n",
    "print(\"--------------------------\")\n",
    "\n",
    "du_soft.binary_class_distribution()\n",
    "\n",
    "print(\"--------------------------\")\n"
   ]
  },
  {
   "cell_type": "markdown",
   "id": "6c417e29",
   "metadata": {},
   "source": [
    "## Full column"
   ]
  },
  {
   "cell_type": "code",
   "execution_count": 9,
   "id": "f2f92327",
   "metadata": {},
   "outputs": [],
   "source": [
    "du_full = DataUnderstanding(\n",
    "    dataset=train_df,\n",
    "    text_column='tweet_full',          \n",
    "    class_column=LABEL_COLUMN        \n",
    ")"
   ]
  },
  {
   "cell_type": "code",
   "execution_count": 10,
   "id": "cc45e028",
   "metadata": {},
   "outputs": [
    {
     "name": "stdout",
     "output_type": "stream",
     "text": [
      "\n",
      "Class Distribution:\n",
      "cyberbullying_type\n",
      "religion             5647\n",
      "age                  5609\n",
      "ethnicity            5387\n",
      "gender               5374\n",
      "not_cyberbullying    4681\n",
      "Name: count, dtype: int64\n",
      "--------------------------\n",
      "\n",
      "Class Imbalance Ratio (max/min): 1.21\n",
      "--------------------------\n",
      "\n",
      "Missing Values:\n",
      "tweet_text              0\n",
      "cyberbullying_type      0\n",
      "tweet_soft             19\n",
      "tweet_full             38\n",
      "is_cyberbullying        0\n",
      "cyberbullying_label     0\n",
      "char_length             0\n",
      "word_length             0\n",
      "dtype: int64\n",
      "--------------------------\n",
      "\n",
      "Empty or whitespace-only strings per column:\n",
      "tweet_text             0\n",
      "cyberbullying_type     0\n",
      "tweet_soft             0\n",
      "tweet_full             0\n",
      "is_cyberbullying       0\n",
      "cyberbullying_label    0\n",
      "char_length            0\n",
      "word_length            0\n",
      "dtype: int64\n",
      "--------------------------\n",
      "\n",
      "Number of duplicated tweet_full: 364\n",
      "--------------------------\n",
      "\n",
      "Total duplicated texts (same text, any label): 508 rows\n",
      "\n",
      "Label counts among all duplicates:\n",
      "gender: 165\n",
      "ethnicity: 103\n",
      "age: 103\n",
      "not_cyberbullying: 90\n",
      "religion: 47\n",
      "\n",
      "Perfect duplicates (same text and same label): 497 rows\n",
      "Imperfect duplicates (same text, different labels): 10 rows\n",
      "--------------------------\n",
      "\n",
      "Average Tweet Length: 87.51 characters\n",
      "Average Tweet Length: 14.12 words\n",
      "--------------------------\n",
      "\n",
      "Binary Class Distribution:\n",
      "is_cyberbullying\n",
      "Yes    0.824669\n",
      "No     0.175331\n",
      "Name: proportion, dtype: float64\n",
      "--------------------------\n"
     ]
    },
    {
     "name": "stderr",
     "output_type": "stream",
     "text": [
      "/Users/manuelemessere/Documents/Università /a) corsi/Human Language Technologies/HLT24_25/hlt_projct/cyberbullying/scripts/data_understanding.py:44: FutureWarning: DataFrame.applymap has been deprecated. Use DataFrame.map instead.\n",
      "  .applymap(lambda x: isinstance(x, str) and x.strip() == '')\n"
     ]
    }
   ],
   "source": [
    "du_full.class_distribution()\n",
    "\n",
    "print(\"--------------------------\")\n",
    "\n",
    "du_full.check_imbalance()\n",
    "\n",
    "print(\"--------------------------\")\n",
    "\n",
    "du_full.check_missing_values()\n",
    "\n",
    "print(\"--------------------------\")\n",
    "\n",
    "du_full.check_empty_strings()\n",
    "\n",
    "print(\"--------------------------\")\n",
    "\n",
    "du_full.check_duplicates()\n",
    "\n",
    "print(\"--------------------------\")\n",
    "\n",
    "du_full.inspect_duplicates(text_column='tweet_full', label_column=LABEL_COLUMN)\n",
    "\n",
    "print(\"--------------------------\")\n",
    "\n",
    "du_full.average_tweet_length()\n",
    "\n",
    "print(\"--------------------------\")\n",
    "\n",
    "du_full.binary_class_distribution()\n",
    "\n",
    "print(\"--------------------------\")\n"
   ]
  },
  {
   "cell_type": "markdown",
   "id": "d819144d",
   "metadata": {},
   "source": [
    "# Data preprocessing"
   ]
  },
  {
   "cell_type": "code",
   "execution_count": 11,
   "id": "7ccf560e",
   "metadata": {},
   "outputs": [
    {
     "name": "stdout",
     "output_type": "stream",
     "text": [
      "\n",
      "--- CLEANING DUPLICATES COLUMN BY COLUMN: ['tweet_text', 'tweet_soft', 'tweet_full'] ---\n",
      "\n",
      "Processing column: 'tweet_text'\n",
      " - Removed 0 imperfect duplicates (conflicting labels)\n",
      " - Removed 0 perfect duplicates (keeping one)\n",
      "\n",
      "Processing column: 'tweet_soft'\n",
      " - Removed 2 imperfect duplicates (conflicting labels)\n",
      " - Removed 158 perfect duplicates (keeping one)\n",
      "\n",
      "Processing column: 'tweet_full'\n"
     ]
    },
    {
     "name": "stderr",
     "output_type": "stream",
     "text": [
      "/Users/manuelemessere/Documents/Università /a) corsi/Human Language Technologies/HLT24_25/hlt_projct/cyberbullying/scripts/data_cleaning.py:40: UserWarning: Boolean Series key will be reindexed to match DataFrame index.\n",
      "  duplicates_imperfect = duplicates_all[\n",
      "/Users/manuelemessere/Documents/Università /a) corsi/Human Language Technologies/HLT24_25/hlt_projct/cyberbullying/scripts/data_cleaning.py:40: UserWarning: Boolean Series key will be reindexed to match DataFrame index.\n",
      "  duplicates_imperfect = duplicates_all[\n",
      "/Users/manuelemessere/Documents/Università /a) corsi/Human Language Technologies/HLT24_25/hlt_projct/cyberbullying/scripts/data_cleaning.py:40: UserWarning: Boolean Series key will be reindexed to match DataFrame index.\n",
      "  duplicates_imperfect = duplicates_all[\n"
     ]
    },
    {
     "name": "stdout",
     "output_type": "stream",
     "text": [
      " - Removed 13 imperfect duplicates (conflicting labels)\n",
      " - Removed 355 perfect duplicates (keeping one)\n",
      "\n",
      "Total rows removed: 368\n",
      "--- DUPLICATE CLEANING COMPLETED ---\n",
      "\n",
      "--- DROPPING MISSING VALUES IN: ['tweet_text', 'tweet_soft', 'tweet_full'] ---\n",
      "Removed 2 rows with missing values.\n",
      "\n",
      "MISSING VALUE CLEANING COMPLETED.\n"
     ]
    }
   ],
   "source": [
    "# Text columns to be cleaned\n",
    "text_columns = ['tweet_text', 'tweet_soft', 'tweet_full']\n",
    "\n",
    "cleaner = DataCleaner(train_df, text_column=text_columns, label_column=LABEL_COLUMN)\n",
    "\n",
    "# 1. Remove global duplicates across all specified text columns\n",
    "cleaned_df = cleaner.clean_text_duplicates()\n",
    "\n",
    "# 2. Drop rows with missing values in any of the specified text columns\n",
    "cleaned_df = cleaner.drop_missing_values(important_columns=text_columns)"
   ]
  },
  {
   "cell_type": "code",
   "execution_count": 12,
   "id": "c4e59ec6",
   "metadata": {},
   "outputs": [
    {
     "name": "stdout",
     "output_type": "stream",
     "text": [
      "Remaining rows: 26328\n"
     ]
    }
   ],
   "source": [
    "# Check\n",
    "print(f\"Remaining rows: {cleaned_df.shape[0]}\")\n"
   ]
  },
  {
   "cell_type": "markdown",
   "id": "427068b1",
   "metadata": {},
   "source": [
    "# Preprocessed training data understanding"
   ]
  },
  {
   "cell_type": "markdown",
   "id": "0f5ac56e",
   "metadata": {},
   "source": [
    "## Raw column"
   ]
  },
  {
   "cell_type": "code",
   "execution_count": 13,
   "id": "58e1445e",
   "metadata": {},
   "outputs": [],
   "source": [
    "cleaned_du = DataUnderstanding(\n",
    "    dataset=cleaned_df,\n",
    "    text_column='tweet_text',          \n",
    "    class_column=LABEL_COLUMN        \n",
    ")"
   ]
  },
  {
   "cell_type": "code",
   "execution_count": 14,
   "id": "bc99fcbb",
   "metadata": {},
   "outputs": [
    {
     "name": "stdout",
     "output_type": "stream",
     "text": [
      "\n",
      "Class Distribution:\n",
      "cyberbullying_type\n",
      "religion             5619\n",
      "age                  5531\n",
      "ethnicity            5313\n",
      "gender               5253\n",
      "not_cyberbullying    4612\n",
      "Name: count, dtype: int64\n",
      "--------------------------\n",
      "\n",
      "Class Imbalance Ratio (max/min): 1.22\n",
      "--------------------------\n",
      "\n",
      "Missing Values:\n",
      "tweet_text             0\n",
      "cyberbullying_type     0\n",
      "tweet_soft             0\n",
      "tweet_full             0\n",
      "is_cyberbullying       0\n",
      "cyberbullying_label    0\n",
      "char_length            0\n",
      "word_length            0\n",
      "dtype: int64\n",
      "--------------------------\n",
      "\n",
      "Empty or whitespace-only strings per column:\n",
      "tweet_text             0\n",
      "cyberbullying_type     0\n",
      "tweet_soft             0\n",
      "tweet_full             0\n",
      "is_cyberbullying       0\n",
      "cyberbullying_label    0\n",
      "char_length            0\n",
      "word_length            0\n",
      "dtype: int64\n",
      "--------------------------\n",
      "\n",
      "Empty or whitespace-only strings per column:\n",
      "tweet_text             0\n",
      "cyberbullying_type     0\n",
      "tweet_soft             0\n",
      "tweet_full             0\n",
      "is_cyberbullying       0\n",
      "cyberbullying_label    0\n",
      "char_length            0\n",
      "word_length            0\n",
      "dtype: int64\n",
      "--------------------------\n",
      "\n",
      "Number of duplicated tweet_text: 0\n",
      "--------------------------\n",
      "\n",
      "Total duplicated texts (same text, any label): 0 rows\n",
      "\n",
      "Label counts among all duplicates:\n",
      "\n",
      "Perfect duplicates (same text and same label): 0 rows\n",
      "Imperfect duplicates (same text, different labels): 0 rows\n",
      "--------------------------\n",
      "\n",
      "Binary Class Distribution:\n",
      "is_cyberbullying\n",
      "Yes    0.824825\n",
      "No     0.175175\n",
      "Name: proportion, dtype: float64\n"
     ]
    },
    {
     "name": "stderr",
     "output_type": "stream",
     "text": [
      "/Users/manuelemessere/Documents/Università /a) corsi/Human Language Technologies/HLT24_25/hlt_projct/cyberbullying/scripts/data_understanding.py:44: FutureWarning: DataFrame.applymap has been deprecated. Use DataFrame.map instead.\n",
      "  .applymap(lambda x: isinstance(x, str) and x.strip() == '')\n"
     ]
    }
   ],
   "source": [
    "cleaned_du.class_distribution()\n",
    "\n",
    "print(\"--------------------------\")\n",
    "\n",
    "cleaned_du.check_imbalance()\n",
    "\n",
    "print(\"--------------------------\")\n",
    "\n",
    "cleaned_du.check_missing_values()\n",
    "\n",
    "print(\"--------------------------\")\n",
    "\n",
    "cleaned_du.check_empty_strings()\n",
    "\n",
    "print(\"--------------------------\")\n",
    "\n",
    "cleaned_du.check_empty_strings()\n",
    "\n",
    "print(\"--------------------------\")\n",
    "\n",
    "cleaned_du.check_duplicates()\n",
    "\n",
    "print(\"--------------------------\")\n",
    "\n",
    "cleaned_du.inspect_duplicates(text_column='tweet_text', label_column='cyberbullying_type')\n",
    "\n",
    "print(\"--------------------------\")\n",
    "\n",
    "cleaned_du.binary_class_distribution()"
   ]
  },
  {
   "cell_type": "markdown",
   "id": "18d275fc",
   "metadata": {},
   "source": [
    "## Soft column"
   ]
  },
  {
   "cell_type": "code",
   "execution_count": 15,
   "id": "fee7b393",
   "metadata": {},
   "outputs": [],
   "source": [
    "cleaned_du = DataUnderstanding(\n",
    "    dataset=cleaned_df,\n",
    "    text_column='tweet_soft',          \n",
    "    class_column=LABEL_COLUMN        \n",
    ")"
   ]
  },
  {
   "cell_type": "code",
   "execution_count": 16,
   "id": "ad711dac",
   "metadata": {},
   "outputs": [
    {
     "name": "stdout",
     "output_type": "stream",
     "text": [
      "\n",
      "Class Distribution:\n",
      "cyberbullying_type\n",
      "religion             5619\n",
      "age                  5531\n",
      "ethnicity            5313\n",
      "gender               5253\n",
      "not_cyberbullying    4612\n",
      "Name: count, dtype: int64\n",
      "--------------------------\n",
      "\n",
      "Class Imbalance Ratio (max/min): 1.22\n",
      "--------------------------\n",
      "\n",
      "Missing Values:\n",
      "tweet_text             0\n",
      "cyberbullying_type     0\n",
      "tweet_soft             0\n",
      "tweet_full             0\n",
      "is_cyberbullying       0\n",
      "cyberbullying_label    0\n",
      "char_length            0\n",
      "word_length            0\n",
      "dtype: int64\n",
      "--------------------------\n",
      "\n",
      "Empty or whitespace-only strings per column:\n",
      "tweet_text             0\n",
      "cyberbullying_type     0\n",
      "tweet_soft             0\n",
      "tweet_full             0\n",
      "is_cyberbullying       0\n",
      "cyberbullying_label    0\n",
      "char_length            0\n",
      "word_length            0\n",
      "dtype: int64\n",
      "--------------------------\n",
      "\n",
      "Empty or whitespace-only strings per column:\n",
      "tweet_text             0\n",
      "cyberbullying_type     0\n",
      "tweet_soft             0\n",
      "tweet_full             0\n",
      "is_cyberbullying       0\n",
      "cyberbullying_label    0\n",
      "char_length            0\n",
      "word_length            0\n",
      "dtype: int64\n",
      "--------------------------\n",
      "\n",
      "Number of duplicated tweet_soft: 0\n",
      "--------------------------\n",
      "\n",
      "Total duplicated texts (same text, any label): 0 rows\n",
      "\n",
      "Label counts among all duplicates:\n",
      "\n",
      "Perfect duplicates (same text and same label): 0 rows\n",
      "Imperfect duplicates (same text, different labels): 0 rows\n",
      "--------------------------\n",
      "\n",
      "Binary Class Distribution:\n",
      "is_cyberbullying\n",
      "Yes    0.824825\n",
      "No     0.175175\n",
      "Name: proportion, dtype: float64\n"
     ]
    },
    {
     "name": "stderr",
     "output_type": "stream",
     "text": [
      "/Users/manuelemessere/Documents/Università /a) corsi/Human Language Technologies/HLT24_25/hlt_projct/cyberbullying/scripts/data_understanding.py:44: FutureWarning: DataFrame.applymap has been deprecated. Use DataFrame.map instead.\n",
      "  .applymap(lambda x: isinstance(x, str) and x.strip() == '')\n"
     ]
    }
   ],
   "source": [
    "cleaned_du.class_distribution()\n",
    "\n",
    "print(\"--------------------------\")\n",
    "\n",
    "cleaned_du.check_imbalance()\n",
    "\n",
    "print(\"--------------------------\")\n",
    "\n",
    "cleaned_du.check_missing_values()\n",
    "\n",
    "print(\"--------------------------\")\n",
    "\n",
    "cleaned_du.check_empty_strings()\n",
    "\n",
    "print(\"--------------------------\")\n",
    "\n",
    "cleaned_du.check_empty_strings()\n",
    "\n",
    "print(\"--------------------------\")\n",
    "\n",
    "cleaned_du.check_duplicates()\n",
    "\n",
    "print(\"--------------------------\")\n",
    "\n",
    "cleaned_du.inspect_duplicates(text_column='tweet_soft', label_column='cyberbullying_type')\n",
    "\n",
    "print(\"--------------------------\")\n",
    "\n",
    "cleaned_du.binary_class_distribution()"
   ]
  },
  {
   "cell_type": "markdown",
   "id": "0245c89f",
   "metadata": {},
   "source": [
    "## Full column"
   ]
  },
  {
   "cell_type": "code",
   "execution_count": 17,
   "id": "0c572056",
   "metadata": {},
   "outputs": [],
   "source": [
    "cleaned_du = DataUnderstanding(\n",
    "    dataset=cleaned_df,\n",
    "    text_column='tweet_full',          \n",
    "    class_column=LABEL_COLUMN        \n",
    ")"
   ]
  },
  {
   "cell_type": "code",
   "execution_count": 18,
   "id": "0891f41f",
   "metadata": {},
   "outputs": [
    {
     "name": "stdout",
     "output_type": "stream",
     "text": [
      "\n",
      "Class Distribution:\n",
      "cyberbullying_type\n",
      "religion             5619\n",
      "age                  5531\n",
      "ethnicity            5313\n",
      "gender               5253\n",
      "not_cyberbullying    4612\n",
      "Name: count, dtype: int64\n",
      "--------------------------\n",
      "\n",
      "Class Imbalance Ratio (max/min): 1.22\n",
      "--------------------------\n",
      "\n",
      "Missing Values:\n",
      "tweet_text             0\n",
      "cyberbullying_type     0\n",
      "tweet_soft             0\n",
      "tweet_full             0\n",
      "is_cyberbullying       0\n",
      "cyberbullying_label    0\n",
      "char_length            0\n",
      "word_length            0\n",
      "dtype: int64\n",
      "--------------------------\n",
      "\n",
      "Empty or whitespace-only strings per column:\n",
      "tweet_text             0\n",
      "cyberbullying_type     0\n",
      "tweet_soft             0\n",
      "tweet_full             0\n",
      "is_cyberbullying       0\n",
      "cyberbullying_label    0\n",
      "char_length            0\n",
      "word_length            0\n",
      "dtype: int64\n",
      "--------------------------\n",
      "\n",
      "Empty or whitespace-only strings per column:\n",
      "tweet_text             0\n",
      "cyberbullying_type     0\n",
      "tweet_soft             0\n",
      "tweet_full             0\n",
      "is_cyberbullying       0\n",
      "cyberbullying_label    0\n",
      "char_length            0\n",
      "word_length            0\n",
      "dtype: int64\n",
      "--------------------------\n",
      "\n",
      "Number of duplicated tweet_full: 1\n",
      "--------------------------\n",
      "\n",
      "Total duplicated texts (same text, any label): 2 rows\n",
      "\n",
      "Label counts among all duplicates:\n",
      "gender: 1\n",
      "not_cyberbullying: 1\n"
     ]
    },
    {
     "name": "stderr",
     "output_type": "stream",
     "text": [
      "/Users/manuelemessere/Documents/Università /a) corsi/Human Language Technologies/HLT24_25/hlt_projct/cyberbullying/scripts/data_understanding.py:44: FutureWarning: DataFrame.applymap has been deprecated. Use DataFrame.map instead.\n",
      "  .applymap(lambda x: isinstance(x, str) and x.strip() == '')\n"
     ]
    },
    {
     "name": "stdout",
     "output_type": "stream",
     "text": [
      "\n",
      "Perfect duplicates (same text and same label): 0 rows\n",
      "Imperfect duplicates (same text, different labels): 2 rows\n",
      "--------------------------\n",
      "\n",
      "Binary Class Distribution:\n",
      "is_cyberbullying\n",
      "Yes    0.824825\n",
      "No     0.175175\n",
      "Name: proportion, dtype: float64\n"
     ]
    }
   ],
   "source": [
    "cleaned_du.class_distribution()\n",
    "\n",
    "print(\"--------------------------\")\n",
    "\n",
    "cleaned_du.check_imbalance()\n",
    "\n",
    "print(\"--------------------------\")\n",
    "\n",
    "cleaned_du.check_missing_values()\n",
    "\n",
    "print(\"--------------------------\")\n",
    "\n",
    "cleaned_du.check_empty_strings()\n",
    "\n",
    "print(\"--------------------------\")\n",
    "\n",
    "cleaned_du.check_empty_strings()\n",
    "\n",
    "print(\"--------------------------\")\n",
    "\n",
    "cleaned_du.check_duplicates()\n",
    "\n",
    "print(\"--------------------------\")\n",
    "\n",
    "cleaned_du.inspect_duplicates(text_column='tweet_full', label_column='cyberbullying_type')\n",
    "\n",
    "print(\"--------------------------\")\n",
    "\n",
    "cleaned_du.binary_class_distribution()"
   ]
  },
  {
   "cell_type": "markdown",
   "id": "748fea69",
   "metadata": {},
   "source": [
    "# Data balancing"
   ]
  },
  {
   "cell_type": "markdown",
   "id": "f7b6a4e3",
   "metadata": {},
   "source": [
    "## Versione ultima multi "
   ]
  },
  {
   "cell_type": "code",
   "execution_count": null,
   "id": "9987a34e",
   "metadata": {},
   "outputs": [],
   "source": [
    "import os\n",
    "import numpy as np\n",
    "import pandas as pd\n",
    "from scripts.text_preprocessing import TextPreprocessor\n",
    "from scripts.data_balancing import DataBalancer\n",
    "from scripts.data_embedding import SemanticSimilarity\n",
    "from scripts.data_saver import DataSaver"
   ]
  },
  {
   "cell_type": "code",
   "execution_count": null,
   "id": "92ae36a0",
   "metadata": {},
   "outputs": [],
   "source": [
    "# === Parametri ===\n",
    "TEXT_COLUMN = 'tweet_text'\n",
    "LABEL_COLUMN = 'cyberbullying_label'\n",
    "TARGET_SIZE = 5700  # oppure max(train_df[LABEL_COLUMN].value_counts())"
   ]
  },
  {
   "cell_type": "code",
   "execution_count": null,
   "id": "61e54cf8",
   "metadata": {},
   "outputs": [],
   "source": [
    "# === Inizializzazione componenti ===\n",
    "preprocessor = TextPreprocessor()\n",
    "balancer = DataBalancer(target_size=TARGET_SIZE)\n",
    "sim_model = SemanticSimilarity()\n",
    "saver = DataSaver()"
   ]
  },
  {
   "cell_type": "code",
   "execution_count": null,
   "id": "6a6e6548",
   "metadata": {},
   "outputs": [],
   "source": [
    "# === Preprocessing iniziale ===\n",
    "cleaned_df['sample_id'] = range(len(cleaned_df))\n",
    "cleaned_df['tweet_raw'] = cleaned_df[TEXT_COLUMN].astype(str)"
   ]
  },
  {
   "cell_type": "code",
   "execution_count": null,
   "id": "dfbf3d43",
   "metadata": {},
   "outputs": [],
   "source": [
    "# === Bilanciamento per ogni classe ===\n",
    "balanced_dfs = []\n",
    "accepted_augmented_dfs = []\n",
    "\n",
    "for label in cleaned_df[MULTI_LABEL_COLUMN].unique():\n",
    "    print(f\"--- Balancing class {label} ---\")\n",
    "\n",
    "    # Bilanciare la singola classe\n",
    "    df_balanced = balancer.balance(\n",
    "        cleaned_df,\n",
    "        text_column=TEXT_COLUMN,\n",
    "        label_column=MULTI_LABEL_COLUMN,\n",
    "        minority_label=label\n",
    "    )\n",
    "\n",
    "    # Isolare gli esempi originali e gli aumentati\n",
    "    original = cleaned_df[cleaned_df[MULTI_LABEL_COLUMN] == label][TEXT_COLUMN].reset_index(drop=True)\n",
    "    augmented_all = df_balanced[df_balanced[MULTI_LABEL_COLUMN] == label][TEXT_COLUMN].reset_index(drop=True)\n",
    "    augmented_only = augmented_all[~augmented_all.isin(original)].reset_index(drop=True)\n",
    "\n",
    "    # Ripetizione per confronto semantico\n",
    "    original_repeated = pd.Series(np.resize(original.values, len(augmented_only)))\n",
    "\n",
    "    # Calcolo similarità semantica\n",
    "    similarity_results = sim_model.predict_class(\n",
    "        df_source=pd.DataFrame({TEXT_COLUMN: augmented_only}),\n",
    "        df_target=pd.DataFrame({TEXT_COLUMN: original_repeated, 'target': ['original'] * len(original_repeated)}),\n",
    "        source_text_col=TEXT_COLUMN,\n",
    "        target_text_col=TEXT_COLUMN,\n",
    "        target_class_col='target',\n",
    "        threshold=0.7\n",
    "    )\n",
    "\n",
    "    # Filtrare esempi accettabili\n",
    "    accepted = similarity_results[similarity_results['similarity_score'] >= 0.85]\n",
    "    print(f\" -> Accepted augmented for class {label}: {len(accepted)}\")\n",
    "\n",
    "    # Preprocessing testi augmentati accettati\n",
    "    df_augmented = pd.DataFrame({\n",
    "        TEXT_COLUMN: accepted[TEXT_COLUMN],\n",
    "        MULTI_LABEL_COLUMN: label\n",
    "    })\n",
    "    # Recupera categoria testuale\n",
    "    label_to_category = dict(zip(cleaned_df[MULTI_LABEL_COLUMN], cleaned_df['cyberbullying_type']))\n",
    "    category_name = label_to_category[label] if label in label_to_category else \"unknown\"\n",
    "    df_augmented['cyberbullying_type'] = category_name\n",
    "\n",
    "    df_augmented['tweet_soft'] = df_augmented[TEXT_COLUMN].apply(preprocessor.clean_text_soft)\n",
    "    df_augmented['tweet_full'] = df_augmented[TEXT_COLUMN].apply(preprocessor.clean_text_full)\n",
    "    df_augmented['sample_id'] = range(\n",
    "        cleaned_df['sample_id'].max() + 1,\n",
    "        cleaned_df['sample_id'].max() + 1 + len(df_augmented)\n",
    "    )\n",
    "\n",
    "    accepted_augmented_dfs.append(df_augmented)"
   ]
  },
  {
   "cell_type": "code",
   "execution_count": null,
   "id": "21c74506",
   "metadata": {},
   "outputs": [],
   "source": [
    "# === Preparare dataset originale ===\n",
    "df_original = cleaned_df[['tweet_text', 'tweet_soft', 'tweet_full', MULTI_LABEL_COLUMN, 'cyberbullying_type', 'sample_id']].copy()\n",
    "df_original.rename(columns={MULTI_LABEL_COLUMN: 'label'}, inplace=True)\n",
    "\n",
    "# === Unire augmentati ===\n",
    "df_augmented_all = pd.concat(accepted_augmented_dfs, ignore_index=True)\n",
    "df_augmented_all.rename(columns={MULTI_LABEL_COLUMN: 'label'}, inplace=True)\n",
    "df_augmented_all = df_augmented_all[['tweet_text', 'tweet_soft', 'tweet_full', 'label', 'cyberbullying_type', 'sample_id']]\n",
    "\n",
    "\n",
    "# === Combinare, mescolare e salvare ===\n",
    "df_combined = pd.concat([df_original, df_augmented_all]).sample(frac=1, random_state=42).reset_index(drop=True)"
   ]
  },
  {
   "cell_type": "code",
   "execution_count": null,
   "id": "344d8f2b",
   "metadata": {},
   "outputs": [
    {
     "name": "stderr",
     "output_type": "stream",
     "text": [
      "[nltk_data] Downloading package stopwords to\n",
      "[nltk_data]     /Users/manuelemessere/nltk_data...\n",
      "[nltk_data]   Package stopwords is already up-to-date!\n"
     ]
    },
    {
     "name": "stdout",
     "output_type": "stream",
     "text": [
      "--- Balancing class 4 ---\n"
     ]
    },
    {
     "name": "stderr",
     "output_type": "stream",
     "text": [
      "Batches: 100%|██████████| 3/3 [00:03<00:00,  1.29s/it]\n",
      "Batches: 100%|██████████| 3/3 [00:01<00:00,  1.67it/s]\n"
     ]
    },
    {
     "name": "stdout",
     "output_type": "stream",
     "text": [
      " -> Accepted augmented for class 4: 74\n",
      "--- Balancing class 0 ---\n"
     ]
    },
    {
     "name": "stderr",
     "output_type": "stream",
     "text": [
      "Batches: 100%|██████████| 6/6 [00:02<00:00,  2.06it/s]\n",
      "Batches: 100%|██████████| 6/6 [00:02<00:00,  2.06it/s]\n"
     ]
    },
    {
     "name": "stdout",
     "output_type": "stream",
     "text": [
      " -> Accepted augmented for class 0: 149\n",
      "--- Balancing class 3 ---\n"
     ]
    },
    {
     "name": "stderr",
     "output_type": "stream",
     "text": [
      "Batches: 100%|██████████| 32/32 [00:12<00:00,  2.49it/s]\n",
      "Batches: 100%|██████████| 32/32 [00:13<00:00,  2.39it/s]\n"
     ]
    },
    {
     "name": "stdout",
     "output_type": "stream",
     "text": [
      " -> Accepted augmented for class 3: 869\n",
      "--- Balancing class 1 ---\n"
     ]
    },
    {
     "name": "stderr",
     "output_type": "stream",
     "text": [
      "Batches: 100%|██████████| 12/12 [00:07<00:00,  1.55it/s]\n",
      "Batches: 100%|██████████| 12/12 [00:07<00:00,  1.61it/s]\n"
     ]
    },
    {
     "name": "stdout",
     "output_type": "stream",
     "text": [
      " -> Accepted augmented for class 1: 340\n",
      "--- Balancing class 2 ---\n"
     ]
    },
    {
     "name": "stderr",
     "output_type": "stream",
     "text": [
      "Batches: 100%|██████████| 14/14 [00:08<00:00,  1.61it/s]\n",
      "Batches: 100%|██████████| 14/14 [00:12<00:00,  1.14it/s]\n"
     ]
    },
    {
     "name": "stdout",
     "output_type": "stream",
     "text": [
      " -> Accepted augmented for class 2: 373\n",
      "Dataset saved to /Users/manuelemessere/Documents/Università /a) corsi/Human Language Technologies/HLT24_25/hlt_projct/cyberbullying/data/processed_data/train_multiclass_balanced.csv.\n",
      "\n",
      "Dataset bilanciato salvato in: /Users/manuelemessere/Documents/Università /a) corsi/Human Language Technologies/HLT24_25/hlt_projct/cyberbullying/data/processed_data/train_multiclass_balanced.csv\n",
      "Totale esempi: 28133\n",
      "label\n",
      "4    5693\n",
      "0    5680\n",
      "1    5653\n",
      "2    5626\n",
      "3    5481\n",
      "Name: count, dtype: int64\n"
     ]
    }
   ],
   "source": [
    "# === Salvataggio ===\n",
    "output_path = os.path.join(PROCESSED_DATA_PATH, \"train_multiclass_balanced.csv\")\n",
    "saver.save_full_dataset(df_combined, output_path)\n",
    "\n",
    "print(f\"\\nDataset bilanciato salvato in: {output_path}\")\n",
    "print(f\"Totale esempi: {len(df_combined)}\")\n",
    "print(df_combined['label'].value_counts())\n"
   ]
  },
  {
   "cell_type": "code",
   "execution_count": null,
   "id": "4df1535b",
   "metadata": {},
   "outputs": [
    {
     "name": "stderr",
     "output_type": "stream",
     "text": [
      "Batches: 100%|██████████| 28/28 [00:12<00:00,  2.23it/s]\n",
      "Batches: 100%|██████████| 28/28 [00:11<00:00,  2.36it/s]\n",
      "Batches: 100%|██████████| 12/12 [00:07<00:00,  1.68it/s]\n",
      "Batches: 100%|██████████| 12/12 [00:09<00:00,  1.32it/s]\n",
      "Batches: 100%|██████████| 11/11 [00:06<00:00,  1.58it/s]\n",
      "Batches: 100%|██████████| 11/11 [00:07<00:00,  1.51it/s]\n",
      "Batches: 100%|██████████| 5/5 [00:02<00:00,  1.69it/s]\n",
      "Batches: 100%|██████████| 5/5 [00:03<00:00,  1.66it/s]\n",
      "Batches: 100%|██████████| 3/3 [00:02<00:00,  1.48it/s]\n",
      "Batches: 100%|██████████| 3/3 [00:01<00:00,  1.55it/s]\n",
      "Batches: 100%|██████████| 57/57 [00:32<00:00,  1.77it/s]\n",
      "Batches: 100%|██████████| 57/57 [00:26<00:00,  2.13it/s]\n"
     ]
    },
    {
     "data": {
      "image/png": "[encoded data removed]",
      "text/plain": [
       "<Figure size 1800x500 with 3 Axes>"
      ]
     },
     "metadata": {},
     "output_type": "display_data"
    },
    {
     "data": {
      "image/png": "[encoded data removed]",
      "text/plain": [
       "<Figure size 1000x600 with 1 Axes>"
      ]
     },
     "metadata": {},
     "output_type": "display_data"
    }
   ],
   "source": [
    "import os\n",
    "import numpy as np\n",
    "import pandas as pd\n",
    "import matplotlib.pyplot as plt\n",
    "from scripts.data_embedding import SemanticSimilarity\n",
    "from scripts.data_saver import DataSaver\n",
    "\n",
    "# --- Constants ---\n",
    "SIMILARITY_THRESHOLD = 0.85\n",
    "FILENAME = \"train_multiclass_balanced.csv\"\n",
    "\n",
    "# --- 1. Estrai sample originali e augmentati ---\n",
    "\n",
    "# Augmented = sample_id > massimo sample_id originale\n",
    "aug_start_id = cleaned_df['sample_id'].max() + 1\n",
    "df_aug = df_combined[df_combined['sample_id'] >= aug_start_id].reset_index(drop=True)\n",
    "df_ori = df_combined[df_combined['sample_id'] < aug_start_id].copy()\n",
    "\n",
    "# --- 2. Analisi similarità semantica vs originali per ogni classe ---\n",
    "\n",
    "sim_model = SemanticSimilarity()\n",
    "similarity_text_original_all = []\n",
    "\n",
    "for label in df_aug['label'].unique():\n",
    "    # Estrai augmented e originali della stessa classe\n",
    "    aug_class = df_aug[df_aug['label'] == label].reset_index(drop=True)\n",
    "    ori_class = df_ori[df_ori['label'] == label].reset_index(drop=True)\n",
    "\n",
    "    # Ripeti gli originali per confronto uno-a-uno\n",
    "    ori_repeated = pd.Series(np.resize(ori_class[TEXT_COLUMN].values, len(aug_class)))\n",
    "\n",
    "    # Calcola similarità semantica\n",
    "    df_source = aug_class[[TEXT_COLUMN]].copy()\n",
    "    df_target = pd.DataFrame({TEXT_COLUMN: ori_repeated, 'target': ['original'] * len(ori_repeated)})\n",
    "\n",
    "    sim_results = sim_model.predict_class(\n",
    "        df_source=df_source,\n",
    "        df_target=df_target,\n",
    "        source_text_col=TEXT_COLUMN,\n",
    "        target_text_col=TEXT_COLUMN,\n",
    "        target_class_col='target',\n",
    "        threshold=0.0\n",
    "    )\n",
    "    sim_results['class'] = label\n",
    "    similarity_text_original_all.append(sim_results)\n",
    "\n",
    "similarity_text_original = pd.concat(similarity_text_original_all, ignore_index=True)\n",
    "\n",
    "# --- 3. Similarità con versioni preprocessate ---\n",
    "\n",
    "# tweet_soft\n",
    "df_target_soft = pd.DataFrame({\n",
    "    TEXT_COLUMN: df_aug['tweet_soft'],\n",
    "    'target': ['soft'] * len(df_aug)\n",
    "})\n",
    "similarity_text_soft = sim_model.predict_class(\n",
    "    df_source=df_aug[[TEXT_COLUMN]],\n",
    "    df_target=df_target_soft,\n",
    "    source_text_col=TEXT_COLUMN,\n",
    "    target_text_col=TEXT_COLUMN,\n",
    "    target_class_col='target',\n",
    "    threshold=0.0\n",
    ")\n",
    "\n",
    "# tweet_full (Word2Vec)\n",
    "sim_model_full = SemanticSimilarity(model_type=\"word2vec\", model_path=W2V_PATH)\n",
    "df_target_full = pd.DataFrame({\n",
    "    TEXT_COLUMN: df_aug['tweet_full'],\n",
    "    'target': ['full'] * len(df_aug)\n",
    "})\n",
    "similarity_text_full = sim_model_full.predict_class(\n",
    "    df_source=df_aug[[TEXT_COLUMN]],\n",
    "    df_target=df_target_full,\n",
    "    source_text_col=TEXT_COLUMN,\n",
    "    target_text_col=TEXT_COLUMN,\n",
    "    target_class_col='target',\n",
    "    threshold=0.0\n",
    ")\n",
    "\n",
    "# --- 4. Istogrammi similarità ---\n",
    "fig, axs = plt.subplots(1, 3, figsize=(18, 5), sharey=True)\n",
    "\n",
    "# tweet_text vs original\n",
    "axs[0].hist(similarity_text_original['similarity_score'], bins=30, color='skyblue')\n",
    "axs[0].axvline(SIMILARITY_THRESHOLD, color='gray', linestyle='--', label=f'Threshold {SIMILARITY_THRESHOLD}')\n",
    "axs[0].set_title('tweet_text vs Original')\n",
    "axs[0].set_xlabel('Similarity')\n",
    "axs[0].set_ylabel('Frequency')\n",
    "\n",
    "# tweet_text vs tweet_soft\n",
    "axs[1].hist(similarity_text_soft['similarity_score'], bins=30, color='lightgreen')\n",
    "axs[1].axvline(SIMILARITY_THRESHOLD, color='gray', linestyle='--')\n",
    "axs[1].set_title('tweet_text vs tweet_soft')\n",
    "axs[1].set_xlabel('Similarity')\n",
    "\n",
    "# tweet_text vs tweet_full\n",
    "axs[2].hist(similarity_text_full['similarity_score'], bins=30, color='salmon')\n",
    "axs[2].axvline(SIMILARITY_THRESHOLD, color='gray', linestyle='--')\n",
    "axs[2].set_title('tweet_text vs tweet_full')\n",
    "axs[2].set_xlabel('Similarity')\n",
    "\n",
    "plt.suptitle('Semantic Similarity Distributions')\n",
    "plt.tight_layout()\n",
    "plt.show()\n",
    "\n",
    "# --- 5. Distribuzione classi: prima vs dopo augmentation ---\n",
    "\n",
    "original_counts = cleaned_df[MULTI_LABEL_COLUMN].value_counts().sort_index()\n",
    "augmented_counts = df_combined['label'].value_counts().sort_index()\n",
    "\n",
    "df_class_distribution = pd.DataFrame({\n",
    "    'Original': original_counts,\n",
    "    'After Augmentation': augmented_counts\n",
    "})\n",
    "\n",
    "df_class_distribution.plot(kind='bar', figsize=(10, 6), color=['#a1c9f4', '#ffb482'])\n",
    "\n",
    "plt.title(\"Class Distribution: Before vs After Augmentation\")\n",
    "plt.xlabel(\"Label (encoded)\")\n",
    "plt.ylabel(\"Number of Samples\")\n",
    "plt.xticks(rotation=0)\n",
    "plt.grid(axis='y')\n",
    "plt.tight_layout()\n",
    "plt.show()\n"
   ]
  },
  {
   "cell_type": "code",
   "execution_count": null,
   "id": "ce475b27",
   "metadata": {},
   "outputs": [],
   "source": []
  }
 ],
 "metadata": {
  "kernelspec": {
   "display_name": "ML",
   "language": "python",
   "name": "python3"
  },
  "language_info": {
   "codemirror_mode": {
    "name": "ipython",
    "version": 3
   },
   "file_extension": ".py",
   "mimetype": "text/x-python",
   "name": "python",
   "nbconvert_exporter": "python",
   "pygments_lexer": "ipython3",
   "version": "3.11.9"
  }
 },
 "nbformat": 4,
 "nbformat_minor": 5
}
