{
 "cells": [
  {
   "cell_type": "code",
   "execution_count": 1,
   "id": "a4f3ae8e",
   "metadata": {},
   "outputs": [],
   "source": [
    "import sys\n",
    "import os\n",
    "import pandas as pd"
   ]
  },
  {
   "cell_type": "code",
   "execution_count": 2,
   "id": "02480be7",
   "metadata": {},
   "outputs": [],
   "source": [
    "BASE_PATH = \"/Users/manuelemessere/Documents/Università /a) corsi/Human Language Technologies/HLT24_25/hlt_projct/cyberbullying\"\n",
    "sys.path.append(BASE_PATH)\n",
    "os.chdir(BASE_PATH)"
   ]
  },
  {
   "cell_type": "markdown",
   "id": "3ddf2b82",
   "metadata": {},
   "source": [
    "# Binary part"
   ]
  },
  {
   "cell_type": "markdown",
   "id": "e61fdc30",
   "metadata": {},
   "source": [
    "# Imports"
   ]
  },
  {
   "cell_type": "code",
   "execution_count": 3,
   "id": "dfb5099e",
   "metadata": {},
   "outputs": [],
   "source": [
    "from scripts.config import VAL_SET_PATH, TEXT_COLUMN, LABEL_COLUMN, PROCESSED_DATA_PATH\n",
    "from scripts.data_loader import DataLoader\n",
    "from scripts.data_understanding import DataUnderstanding\n",
    "from scripts.data_cleaning import DataCleaner\n",
    "from scripts.data_saver import DataSaver"
   ]
  },
  {
   "cell_type": "markdown",
   "id": "e59b49fd",
   "metadata": {},
   "source": [
    "# Training data loading"
   ]
  },
  {
   "cell_type": "code",
   "execution_count": 4,
   "id": "769408c4",
   "metadata": {},
   "outputs": [
    {
     "name": "stdout",
     "output_type": "stream",
     "text": [
      "Dataset loaded with shape: (7145, 6)\n"
     ]
    }
   ],
   "source": [
    "loader = DataLoader(file_path=VAL_SET_PATH)\n",
    "val_df = loader.load_dataset()"
   ]
  },
  {
   "cell_type": "markdown",
   "id": "9ce84a7b",
   "metadata": {},
   "source": [
    "# Training data understanding"
   ]
  },
  {
   "cell_type": "markdown",
   "id": "6999bc32",
   "metadata": {},
   "source": [
    "## Raw column"
   ]
  },
  {
   "cell_type": "code",
   "execution_count": 5,
   "id": "f6c834bd",
   "metadata": {},
   "outputs": [],
   "source": [
    "du_raw = DataUnderstanding(\n",
    "    dataset=val_df,\n",
    "    text_column='tweet_text',          \n",
    "    class_column=LABEL_COLUMN        \n",
    ")"
   ]
  },
  {
   "cell_type": "code",
   "execution_count": 6,
   "id": "17a206e6",
   "metadata": {},
   "outputs": [
    {
     "name": "stdout",
     "output_type": "stream",
     "text": [
      "\n",
      "Class Distribution:\n",
      "cyberbullying_type\n",
      "age                  1557\n",
      "religion             1506\n",
      "gender               1456\n",
      "ethnicity            1373\n",
      "not_cyberbullying    1253\n",
      "Name: count, dtype: int64\n",
      "--------------------------\n",
      "\n",
      "Class Imbalance Ratio (max/min): 1.24\n",
      "--------------------------\n",
      "\n",
      "Missing Values:\n",
      "tweet_text             0\n",
      "cyberbullying_type     0\n",
      "tweet_soft             3\n",
      "tweet_full             6\n",
      "is_cyberbullying       0\n",
      "cyberbullying_label    0\n",
      "dtype: int64\n",
      "--------------------------\n",
      "\n",
      "Empty or whitespace-only strings per column:\n",
      "tweet_text             0\n",
      "cyberbullying_type     0\n",
      "tweet_soft             0\n",
      "tweet_full             0\n",
      "is_cyberbullying       0\n",
      "cyberbullying_label    0\n",
      "dtype: int64\n",
      "--------------------------\n",
      "\n",
      "Number of duplicated tweet_text: 0\n",
      "--------------------------\n",
      "\n",
      "Total duplicated texts (same text, any label): 0 rows\n",
      "\n",
      "Label counts among all duplicates:\n",
      "\n",
      "Perfect duplicates (same text and same label): 0 rows\n",
      "Imperfect duplicates (same text, different labels): 0 rows\n",
      "--------------------------\n",
      "\n",
      "Average Tweet Length: 150.75 characters\n",
      "Average Tweet Length: 26.53 words\n",
      "--------------------------\n",
      "\n",
      "Binary Class Distribution:\n",
      "is_cyberbullying\n",
      "Yes    0.824633\n",
      "No     0.175367\n",
      "Name: proportion, dtype: float64\n",
      "--------------------------\n"
     ]
    },
    {
     "name": "stderr",
     "output_type": "stream",
     "text": [
      "/Users/manuelemessere/Documents/Università /a) corsi/Human Language Technologies/HLT24_25/hlt_projct/cyberbullying/scripts/data_understanding.py:44: FutureWarning: DataFrame.applymap has been deprecated. Use DataFrame.map instead.\n",
      "  .applymap(lambda x: isinstance(x, str) and x.strip() == '')\n"
     ]
    }
   ],
   "source": [
    "du_raw.class_distribution()\n",
    "\n",
    "print(\"--------------------------\")\n",
    "\n",
    "du_raw.check_imbalance()\n",
    "\n",
    "print(\"--------------------------\")\n",
    "\n",
    "du_raw.check_missing_values()\n",
    "\n",
    "print(\"--------------------------\")\n",
    "\n",
    "du_raw.check_empty_strings()\n",
    "\n",
    "print(\"--------------------------\")\n",
    "\n",
    "du_raw.check_duplicates()\n",
    "\n",
    "print(\"--------------------------\")\n",
    "\n",
    "du_raw.inspect_duplicates(text_column='tweet_text', label_column=LABEL_COLUMN)\n",
    "\n",
    "print(\"--------------------------\")\n",
    "\n",
    "du_raw.average_tweet_length()\n",
    "\n",
    "print(\"--------------------------\")\n",
    "\n",
    "du_raw.binary_class_distribution()\n",
    "\n",
    "print(\"--------------------------\")\n"
   ]
  },
  {
   "cell_type": "markdown",
   "id": "78e58760",
   "metadata": {},
   "source": [
    "## Soft column"
   ]
  },
  {
   "cell_type": "code",
   "execution_count": 7,
   "id": "6ec09e25",
   "metadata": {},
   "outputs": [],
   "source": [
    "du_soft = DataUnderstanding(\n",
    "    dataset=val_df,\n",
    "    text_column='tweet_soft',          \n",
    "    class_column=LABEL_COLUMN        \n",
    ")"
   ]
  },
  {
   "cell_type": "code",
   "execution_count": 8,
   "id": "92a4e0f4",
   "metadata": {},
   "outputs": [
    {
     "name": "stdout",
     "output_type": "stream",
     "text": [
      "\n",
      "Class Distribution:\n",
      "cyberbullying_type\n",
      "age                  1557\n",
      "religion             1506\n",
      "gender               1456\n",
      "ethnicity            1373\n",
      "not_cyberbullying    1253\n",
      "Name: count, dtype: int64\n",
      "--------------------------\n",
      "\n",
      "Class Imbalance Ratio (max/min): 1.24\n",
      "--------------------------\n",
      "\n",
      "Missing Values:\n",
      "tweet_text             0\n",
      "cyberbullying_type     0\n",
      "tweet_soft             3\n",
      "tweet_full             6\n",
      "is_cyberbullying       0\n",
      "cyberbullying_label    0\n",
      "char_length            0\n",
      "word_length            0\n",
      "dtype: int64\n",
      "--------------------------\n",
      "\n",
      "Empty or whitespace-only strings per column:\n",
      "tweet_text             0\n",
      "cyberbullying_type     0\n",
      "tweet_soft             0\n",
      "tweet_full             0\n",
      "is_cyberbullying       0\n",
      "cyberbullying_label    0\n",
      "char_length            0\n",
      "word_length            0\n",
      "dtype: int64\n",
      "--------------------------\n",
      "\n",
      "Number of duplicated tweet_soft: 18\n",
      "--------------------------\n",
      "\n",
      "Total duplicated texts (same text, any label): 27 rows\n",
      "\n",
      "Label counts among all duplicates:\n",
      "gender: 17\n",
      "age: 5\n",
      "not_cyberbullying: 3\n",
      "ethnicity: 2\n",
      "\n",
      "Perfect duplicates (same text and same label): 27 rows\n",
      "Imperfect duplicates (same text, different labels): 0 rows\n",
      "--------------------------\n",
      "\n",
      "Average Tweet Length: 142.19 characters\n",
      "Average Tweet Length: 26.10 words\n",
      "--------------------------\n",
      "\n",
      "Binary Class Distribution:\n",
      "is_cyberbullying\n",
      "Yes    0.824633\n",
      "No     0.175367\n",
      "Name: proportion, dtype: float64\n",
      "--------------------------\n"
     ]
    },
    {
     "name": "stderr",
     "output_type": "stream",
     "text": [
      "/Users/manuelemessere/Documents/Università /a) corsi/Human Language Technologies/HLT24_25/hlt_projct/cyberbullying/scripts/data_understanding.py:44: FutureWarning: DataFrame.applymap has been deprecated. Use DataFrame.map instead.\n",
      "  .applymap(lambda x: isinstance(x, str) and x.strip() == '')\n"
     ]
    }
   ],
   "source": [
    "du_soft.class_distribution()\n",
    "\n",
    "print(\"--------------------------\")\n",
    "\n",
    "du_soft.check_imbalance()\n",
    "\n",
    "print(\"--------------------------\")\n",
    "\n",
    "du_soft.check_missing_values()\n",
    "\n",
    "print(\"--------------------------\")\n",
    "\n",
    "du_soft.check_empty_strings()\n",
    "\n",
    "print(\"--------------------------\")\n",
    "\n",
    "du_soft.check_duplicates()\n",
    "\n",
    "print(\"--------------------------\")\n",
    "\n",
    "du_soft.inspect_duplicates(text_column='tweet_soft', label_column=LABEL_COLUMN)\n",
    "\n",
    "print(\"--------------------------\")\n",
    "\n",
    "du_soft.average_tweet_length()\n",
    "\n",
    "print(\"--------------------------\")\n",
    "\n",
    "du_soft.binary_class_distribution()\n",
    "\n",
    "print(\"--------------------------\")\n"
   ]
  },
  {
   "cell_type": "markdown",
   "id": "3c04e762",
   "metadata": {},
   "source": [
    "## Full column"
   ]
  },
  {
   "cell_type": "code",
   "execution_count": 9,
   "id": "647b95c8",
   "metadata": {},
   "outputs": [],
   "source": [
    "du_full = DataUnderstanding(\n",
    "    dataset=val_df,\n",
    "    text_column='tweet_full',          \n",
    "    class_column=LABEL_COLUMN        \n",
    ")"
   ]
  },
  {
   "cell_type": "code",
   "execution_count": 10,
   "id": "adc3729c",
   "metadata": {},
   "outputs": [
    {
     "name": "stdout",
     "output_type": "stream",
     "text": [
      "\n",
      "Class Distribution:\n",
      "cyberbullying_type\n",
      "age                  1557\n",
      "religion             1506\n",
      "gender               1456\n",
      "ethnicity            1373\n",
      "not_cyberbullying    1253\n",
      "Name: count, dtype: int64\n",
      "--------------------------\n",
      "\n",
      "Class Imbalance Ratio (max/min): 1.24\n",
      "--------------------------\n",
      "\n",
      "Missing Values:\n",
      "tweet_text             0\n",
      "cyberbullying_type     0\n",
      "tweet_soft             3\n",
      "tweet_full             6\n",
      "is_cyberbullying       0\n",
      "cyberbullying_label    0\n",
      "char_length            0\n",
      "word_length            0\n",
      "dtype: int64\n",
      "--------------------------\n",
      "\n",
      "Empty or whitespace-only strings per column:\n",
      "tweet_text             0\n",
      "cyberbullying_type     0\n",
      "tweet_soft             0\n",
      "tweet_full             0\n",
      "is_cyberbullying       0\n",
      "cyberbullying_label    0\n",
      "char_length            0\n",
      "word_length            0\n",
      "dtype: int64\n",
      "--------------------------\n",
      "\n",
      "Number of duplicated tweet_full: 38\n",
      "--------------------------\n",
      "\n",
      "Total duplicated texts (same text, any label): 56 rows\n",
      "\n",
      "Label counts among all duplicates:\n",
      "gender: 17\n",
      "age: 17\n",
      "not_cyberbullying: 11\n",
      "ethnicity: 8\n",
      "religion: 3\n",
      "\n",
      "Perfect duplicates (same text and same label): 56 rows\n",
      "Imperfect duplicates (same text, different labels): 0 rows\n",
      "--------------------------\n",
      "\n",
      "Average Tweet Length: 87.23 characters\n",
      "Average Tweet Length: 14.08 words\n",
      "--------------------------\n",
      "\n",
      "Binary Class Distribution:\n",
      "is_cyberbullying\n",
      "Yes    0.824633\n",
      "No     0.175367\n",
      "Name: proportion, dtype: float64\n",
      "--------------------------\n"
     ]
    },
    {
     "name": "stderr",
     "output_type": "stream",
     "text": [
      "/Users/manuelemessere/Documents/Università /a) corsi/Human Language Technologies/HLT24_25/hlt_projct/cyberbullying/scripts/data_understanding.py:44: FutureWarning: DataFrame.applymap has been deprecated. Use DataFrame.map instead.\n",
      "  .applymap(lambda x: isinstance(x, str) and x.strip() == '')\n"
     ]
    }
   ],
   "source": [
    "du_full.class_distribution()\n",
    "\n",
    "print(\"--------------------------\")\n",
    "\n",
    "du_full.check_imbalance()\n",
    "\n",
    "print(\"--------------------------\")\n",
    "\n",
    "du_full.check_missing_values()\n",
    "\n",
    "print(\"--------------------------\")\n",
    "\n",
    "du_full.check_empty_strings()\n",
    "\n",
    "print(\"--------------------------\")\n",
    "\n",
    "du_full.check_duplicates()\n",
    "\n",
    "print(\"--------------------------\")\n",
    "\n",
    "du_full.inspect_duplicates(text_column='tweet_full', label_column=LABEL_COLUMN)\n",
    "\n",
    "print(\"--------------------------\")\n",
    "\n",
    "du_full.average_tweet_length()\n",
    "\n",
    "print(\"--------------------------\")\n",
    "\n",
    "du_full.binary_class_distribution()\n",
    "\n",
    "print(\"--------------------------\")\n"
   ]
  },
  {
   "cell_type": "markdown",
   "id": "d819144d",
   "metadata": {},
   "source": [
    "# Data preprocessing"
   ]
  },
  {
   "cell_type": "code",
   "execution_count": 11,
   "id": "7ccf560e",
   "metadata": {},
   "outputs": [
    {
     "name": "stdout",
     "output_type": "stream",
     "text": [
      "\n",
      "--- CLEANING DUPLICATES COLUMN BY COLUMN: ['tweet_text', 'tweet_soft', 'tweet_full'] ---\n",
      "\n",
      "Processing column: 'tweet_text'\n",
      " - Removed 0 imperfect duplicates (conflicting labels)\n",
      " - Removed 0 perfect duplicates (keeping one)\n",
      "\n",
      "Processing column: 'tweet_soft'\n",
      " - Removed 0 imperfect duplicates (conflicting labels)\n",
      " - Removed 18 perfect duplicates (keeping one)\n",
      "\n",
      "Processing column: 'tweet_full'\n",
      " - Removed 0 imperfect duplicates (conflicting labels)\n",
      " - Removed 38 perfect duplicates (keeping one)\n",
      "\n",
      "Total rows removed: 38\n",
      "--- DUPLICATE CLEANING COMPLETED ---\n",
      "\n",
      "--- DROPPING MISSING VALUES IN: ['tweet_text', 'tweet_soft', 'tweet_full'] ---\n",
      "Removed 1 rows with missing values.\n",
      "\n",
      "MISSING VALUE CLEANING COMPLETED.\n"
     ]
    },
    {
     "name": "stderr",
     "output_type": "stream",
     "text": [
      "/Users/manuelemessere/Documents/Università /a) corsi/Human Language Technologies/HLT24_25/hlt_projct/cyberbullying/scripts/data_cleaning.py:40: UserWarning: Boolean Series key will be reindexed to match DataFrame index.\n",
      "  duplicates_imperfect = duplicates_all[\n",
      "/Users/manuelemessere/Documents/Università /a) corsi/Human Language Technologies/HLT24_25/hlt_projct/cyberbullying/scripts/data_cleaning.py:40: UserWarning: Boolean Series key will be reindexed to match DataFrame index.\n",
      "  duplicates_imperfect = duplicates_all[\n",
      "/Users/manuelemessere/Documents/Università /a) corsi/Human Language Technologies/HLT24_25/hlt_projct/cyberbullying/scripts/data_cleaning.py:40: UserWarning: Boolean Series key will be reindexed to match DataFrame index.\n",
      "  duplicates_imperfect = duplicates_all[\n"
     ]
    }
   ],
   "source": [
    "# Text columns to be cleaned\n",
    "text_columns = ['tweet_text', 'tweet_soft', 'tweet_full']\n",
    "\n",
    "cleaner = DataCleaner(val_df, text_column=text_columns, label_column=LABEL_COLUMN)\n",
    "\n",
    "# 1. Remove global duplicates across all specified text columns\n",
    "cleaned_df = cleaner.clean_text_duplicates()\n",
    "\n",
    "# 2. Drop rows with missing values in any of the specified text columns\n",
    "cleaned_df = cleaner.drop_missing_values(important_columns=text_columns)"
   ]
  },
  {
   "cell_type": "code",
   "execution_count": 12,
   "id": "29efb344",
   "metadata": {},
   "outputs": [
    {
     "name": "stdout",
     "output_type": "stream",
     "text": [
      "Dataset saved to /Users/manuelemessere/Documents/Università /a) corsi/Human Language Technologies/HLT24_25/hlt_projct/cyberbullying/data/processed_data/validation_multiclass_preprocessed.csv.\n"
     ]
    }
   ],
   "source": [
    "# Rinomina la label e seleziona le colonne desiderate\n",
    "cleaned_df = cleaned_df.rename(columns={'cyberbullying_label': 'label'})\n",
    "\n",
    "# Seleziona le colonne da includere nel file finale\n",
    "columns_to_keep = ['tweet_text', 'tweet_soft', 'tweet_full', 'label', 'cyberbullying_type']\n",
    "cleaned_df = cleaned_df[columns_to_keep]\n",
    "\n",
    "# Salvataggio\n",
    "saver = DataSaver()\n",
    "output_path = os.path.join(PROCESSED_DATA_PATH, \"validation_multiclass_preprocessed.csv\")\n",
    "saver.save_full_dataset(cleaned_df, output_path)"
   ]
  },
  {
   "cell_type": "code",
   "execution_count": 13,
   "id": "c4e59ec6",
   "metadata": {},
   "outputs": [
    {
     "name": "stdout",
     "output_type": "stream",
     "text": [
      "Remaining rows: 7106\n"
     ]
    }
   ],
   "source": [
    "# Check\n",
    "print(f\"Remaining rows: {cleaned_df.shape[0]}\")\n"
   ]
  },
  {
   "cell_type": "markdown",
   "id": "427068b1",
   "metadata": {},
   "source": [
    "# Preprocessed training data understanding"
   ]
  },
  {
   "cell_type": "markdown",
   "id": "c3b1f7ec",
   "metadata": {},
   "source": [
    "## Raw column"
   ]
  },
  {
   "cell_type": "code",
   "execution_count": 14,
   "id": "fee7b393",
   "metadata": {},
   "outputs": [],
   "source": [
    "cleaned_du = DataUnderstanding(\n",
    "    dataset=cleaned_df,\n",
    "    text_column='tweet_text',          \n",
    "    class_column=LABEL_COLUMN        \n",
    ")"
   ]
  },
  {
   "cell_type": "code",
   "execution_count": 15,
   "id": "ad711dac",
   "metadata": {},
   "outputs": [
    {
     "name": "stdout",
     "output_type": "stream",
     "text": [
      "\n",
      "Class Distribution:\n",
      "cyberbullying_type\n",
      "age                  1546\n",
      "religion             1504\n",
      "gender               1444\n",
      "ethnicity            1368\n",
      "not_cyberbullying    1244\n",
      "Name: count, dtype: int64\n",
      "--------------------------\n",
      "\n",
      "Class Imbalance Ratio (max/min): 1.24\n",
      "--------------------------\n",
      "\n",
      "Missing Values:\n",
      "tweet_text            0\n",
      "tweet_soft            0\n",
      "tweet_full            0\n",
      "label                 0\n",
      "cyberbullying_type    0\n",
      "dtype: int64\n",
      "--------------------------\n",
      "\n",
      "Empty or whitespace-only strings per column:\n",
      "tweet_text            0\n",
      "tweet_soft            0\n",
      "tweet_full            0\n",
      "label                 0\n",
      "cyberbullying_type    0\n",
      "dtype: int64\n",
      "--------------------------\n",
      "\n",
      "Empty or whitespace-only strings per column:\n",
      "tweet_text            0\n",
      "tweet_soft            0\n",
      "tweet_full            0\n",
      "label                 0\n",
      "cyberbullying_type    0\n",
      "dtype: int64\n",
      "--------------------------\n",
      "\n",
      "Number of duplicated tweet_text: 0\n",
      "--------------------------\n",
      "\n",
      "Total duplicated texts (same text, any label): 0 rows\n",
      "\n",
      "Label counts among all duplicates:\n",
      "\n",
      "Perfect duplicates (same text and same label): 0 rows\n",
      "Imperfect duplicates (same text, different labels): 0 rows\n",
      "--------------------------\n",
      "Column 'is_cyberbullying' not found in the dataset.\n"
     ]
    },
    {
     "name": "stderr",
     "output_type": "stream",
     "text": [
      "/Users/manuelemessere/Documents/Università /a) corsi/Human Language Technologies/HLT24_25/hlt_projct/cyberbullying/scripts/data_understanding.py:44: FutureWarning: DataFrame.applymap has been deprecated. Use DataFrame.map instead.\n",
      "  .applymap(lambda x: isinstance(x, str) and x.strip() == '')\n"
     ]
    }
   ],
   "source": [
    "cleaned_du.class_distribution()\n",
    "\n",
    "print(\"--------------------------\")\n",
    "\n",
    "cleaned_du.check_imbalance()\n",
    "\n",
    "print(\"--------------------------\")\n",
    "\n",
    "cleaned_du.check_missing_values()\n",
    "\n",
    "print(\"--------------------------\")\n",
    "\n",
    "cleaned_du.check_empty_strings()\n",
    "\n",
    "print(\"--------------------------\")\n",
    "\n",
    "cleaned_du.check_empty_strings()\n",
    "\n",
    "print(\"--------------------------\")\n",
    "\n",
    "cleaned_du.check_duplicates()\n",
    "\n",
    "print(\"--------------------------\")\n",
    "\n",
    "cleaned_du.inspect_duplicates(text_column='tweet_text', label_column=LABEL_COLUMN)\n",
    "\n",
    "print(\"--------------------------\")\n",
    "\n",
    "cleaned_du.binary_class_distribution()"
   ]
  },
  {
   "cell_type": "markdown",
   "id": "49729fff",
   "metadata": {},
   "source": [
    "## Soft "
   ]
  },
  {
   "cell_type": "code",
   "execution_count": 16,
   "id": "e7ef1001",
   "metadata": {},
   "outputs": [],
   "source": [
    "cleaned_du_soft = DataUnderstanding(\n",
    "    dataset=cleaned_df,\n",
    "    text_column='tweet_soft',          \n",
    "    class_column=LABEL_COLUMN        \n",
    ")"
   ]
  },
  {
   "cell_type": "code",
   "execution_count": 17,
   "id": "bcbccda2",
   "metadata": {},
   "outputs": [
    {
     "name": "stdout",
     "output_type": "stream",
     "text": [
      "\n",
      "Class Distribution:\n",
      "cyberbullying_type\n",
      "age                  1546\n",
      "religion             1504\n",
      "gender               1444\n",
      "ethnicity            1368\n",
      "not_cyberbullying    1244\n",
      "Name: count, dtype: int64\n",
      "--------------------------\n",
      "\n",
      "Class Imbalance Ratio (max/min): 1.24\n",
      "--------------------------\n",
      "\n",
      "Missing Values:\n",
      "tweet_text            0\n",
      "tweet_soft            0\n",
      "tweet_full            0\n",
      "label                 0\n",
      "cyberbullying_type    0\n",
      "dtype: int64\n",
      "--------------------------\n",
      "\n",
      "Empty or whitespace-only strings per column:\n",
      "tweet_text            0\n",
      "tweet_soft            0\n",
      "tweet_full            0\n",
      "label                 0\n",
      "cyberbullying_type    0\n",
      "dtype: int64\n",
      "--------------------------\n",
      "\n",
      "Empty or whitespace-only strings per column:\n",
      "tweet_text            0\n",
      "tweet_soft            0\n",
      "tweet_full            0\n",
      "label                 0\n",
      "cyberbullying_type    0\n",
      "dtype: int64\n",
      "--------------------------\n",
      "\n",
      "Number of duplicated tweet_soft: 0\n",
      "--------------------------\n",
      "\n",
      "Total duplicated texts (same text, any label): 0 rows\n",
      "\n",
      "Label counts among all duplicates:\n",
      "\n",
      "Perfect duplicates (same text and same label): 0 rows\n",
      "Imperfect duplicates (same text, different labels): 0 rows\n",
      "--------------------------\n",
      "Column 'is_cyberbullying' not found in the dataset.\n"
     ]
    },
    {
     "name": "stderr",
     "output_type": "stream",
     "text": [
      "/Users/manuelemessere/Documents/Università /a) corsi/Human Language Technologies/HLT24_25/hlt_projct/cyberbullying/scripts/data_understanding.py:44: FutureWarning: DataFrame.applymap has been deprecated. Use DataFrame.map instead.\n",
      "  .applymap(lambda x: isinstance(x, str) and x.strip() == '')\n"
     ]
    }
   ],
   "source": [
    "cleaned_du_soft.class_distribution()\n",
    "\n",
    "print(\"--------------------------\")\n",
    "\n",
    "cleaned_du_soft.check_imbalance()\n",
    "\n",
    "print(\"--------------------------\")\n",
    "\n",
    "cleaned_du_soft.check_missing_values()\n",
    "\n",
    "print(\"--------------------------\")\n",
    "\n",
    "cleaned_du_soft.check_empty_strings()\n",
    "\n",
    "print(\"--------------------------\")\n",
    "\n",
    "cleaned_du_soft.check_empty_strings()\n",
    "\n",
    "print(\"--------------------------\")\n",
    "\n",
    "cleaned_du_soft.check_duplicates()\n",
    "\n",
    "print(\"--------------------------\")\n",
    "\n",
    "cleaned_du_soft.inspect_duplicates(text_column='tweet_text', label_column=LABEL_COLUMN)\n",
    "\n",
    "print(\"--------------------------\")\n",
    "\n",
    "cleaned_du_soft.binary_class_distribution()"
   ]
  },
  {
   "cell_type": "markdown",
   "id": "a6cf5085",
   "metadata": {},
   "source": [
    "## Full"
   ]
  },
  {
   "cell_type": "code",
   "execution_count": 18,
   "id": "b8ea62b7",
   "metadata": {},
   "outputs": [],
   "source": [
    "cleaned_du_full = DataUnderstanding(\n",
    "    dataset=cleaned_df,\n",
    "    text_column='tweet_full',          \n",
    "    class_column=LABEL_COLUMN        \n",
    ")"
   ]
  },
  {
   "cell_type": "code",
   "execution_count": 19,
   "id": "77cbfa50",
   "metadata": {},
   "outputs": [
    {
     "name": "stdout",
     "output_type": "stream",
     "text": [
      "\n",
      "Class Distribution:\n",
      "cyberbullying_type\n",
      "age                  1546\n",
      "religion             1504\n",
      "gender               1444\n",
      "ethnicity            1368\n",
      "not_cyberbullying    1244\n",
      "Name: count, dtype: int64\n",
      "--------------------------\n",
      "\n",
      "Class Imbalance Ratio (max/min): 1.24\n",
      "--------------------------\n",
      "\n",
      "Missing Values:\n",
      "tweet_text            0\n",
      "tweet_soft            0\n",
      "tweet_full            0\n",
      "label                 0\n",
      "cyberbullying_type    0\n",
      "dtype: int64\n",
      "--------------------------\n",
      "\n",
      "Empty or whitespace-only strings per column:\n",
      "tweet_text            0\n",
      "tweet_soft            0\n",
      "tweet_full            0\n",
      "label                 0\n",
      "cyberbullying_type    0\n",
      "dtype: int64\n",
      "--------------------------\n",
      "\n",
      "Empty or whitespace-only strings per column:\n",
      "tweet_text            0\n",
      "tweet_soft            0\n",
      "tweet_full            0\n",
      "label                 0\n",
      "cyberbullying_type    0\n",
      "dtype: int64\n",
      "--------------------------\n",
      "\n",
      "Number of duplicated tweet_full: 0\n",
      "--------------------------\n",
      "\n",
      "Total duplicated texts (same text, any label): 0 rows\n",
      "\n",
      "Label counts among all duplicates:\n",
      "\n",
      "Perfect duplicates (same text and same label): 0 rows\n",
      "Imperfect duplicates (same text, different labels): 0 rows\n",
      "--------------------------\n",
      "Column 'is_cyberbullying' not found in the dataset.\n"
     ]
    },
    {
     "name": "stderr",
     "output_type": "stream",
     "text": [
      "/Users/manuelemessere/Documents/Università /a) corsi/Human Language Technologies/HLT24_25/hlt_projct/cyberbullying/scripts/data_understanding.py:44: FutureWarning: DataFrame.applymap has been deprecated. Use DataFrame.map instead.\n",
      "  .applymap(lambda x: isinstance(x, str) and x.strip() == '')\n"
     ]
    }
   ],
   "source": [
    "cleaned_du_full.class_distribution()\n",
    "\n",
    "print(\"--------------------------\")\n",
    "\n",
    "cleaned_du_full.check_imbalance()\n",
    "\n",
    "print(\"--------------------------\")\n",
    "\n",
    "cleaned_du_full.check_missing_values()\n",
    "\n",
    "print(\"--------------------------\")\n",
    "\n",
    "cleaned_du_full.check_empty_strings()\n",
    "\n",
    "print(\"--------------------------\")\n",
    "\n",
    "cleaned_du_full.check_empty_strings()\n",
    "\n",
    "print(\"--------------------------\")\n",
    "\n",
    "cleaned_du_full.check_duplicates()\n",
    "\n",
    "print(\"--------------------------\")\n",
    "\n",
    "cleaned_du_full.inspect_duplicates(text_column='tweet_text', label_column=LABEL_COLUMN)\n",
    "\n",
    "print(\"--------------------------\")\n",
    "\n",
    "cleaned_du_full.binary_class_distribution()"
   ]
  }
 ],
 "metadata": {
  "kernelspec": {
   "display_name": "ML",
   "language": "python",
   "name": "python3"
  },
  "language_info": {
   "codemirror_mode": {
    "name": "ipython",
    "version": 3
   },
   "file_extension": ".py",
   "mimetype": "text/x-python",
   "name": "python",
   "nbconvert_exporter": "python",
   "pygments_lexer": "ipython3",
   "version": "3.11.9"
  }
 },
 "nbformat": 4,
 "nbformat_minor": 5
}
